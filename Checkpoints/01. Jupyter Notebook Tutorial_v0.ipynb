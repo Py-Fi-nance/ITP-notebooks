{
 "cells": [
  {
   "cell_type": "markdown",
   "metadata": {},
   "source": [
    "# **Jupyter Notebook Tutorial**\n",
    "---"
   ]
  },
  {
   "cell_type": "markdown",
   "metadata": {},
   "source": [
    "*Before we begin, we are going to adjust some of your default settings.*\n",
    "\n",
    "*First, click on the cog in the bottom-left corner of this window, and then click Settings. Navigate to Text Editor > Suggestions. Then, uncheck every box from \"Suggest: Show Classes\" to \"Suggest: Show Words\".*\n",
    "\n",
    "*Second, in the Settings search bar, type \"auto indent\". Then, change the selection of the Auto Indent setting from \"Full\" to \"Keep\".*\n",
    "\n",
    "*Third, click on the blocks icon on the left side of this window. Click Pylance, then Disable, then Reload Window.*\n",
    "\n",
    "*Finally, click on the cog in the top-right corner of this window, and then click Customize Notebook Layout. Under Cell Toolbar Location, click the pencil icon and change the Value selection from Right to Hidden.*"
   ]
  },
  {
   "cell_type": "markdown",
   "metadata": {},
   "source": [
    "---"
   ]
  },
  {
   "cell_type": "markdown",
   "metadata": {},
   "source": [
    "Useful information that users should know, even when skimming content.\n",
    "The file that you are looking at now is a Jupyter Notebook file. Notebooks are useful when communicating about programming because they support both executable code and formatted text.\n",
    "\n",
    "Like Excel, the content of a Jupyter Notebook is segmented into *cells*. Cells come in two types: Code and Markdown. The type of a cell determines how its content is interpreted by the notebook.\n",
    "\n",
    "\n",
    "\n",
    "Right now, you are looking at a Markdown cell. You can't see it, but this cell contains Markdown syntax that affects its formatting. You can open a Markdown cell by double clicking it. Then, you can execute the cell by holding Shift and pressing Enter.\n",
    "\n",
    "**Try opening and executing this Markdown cell.**\n",
    "\n",
    "*You will not need to know any Markdown syntax for this class, but if you want to learn, [this guide](https://www.markdownguide.org/basic-syntax/) covers the basics.*"
   ]
  },
  {
   "cell_type": "code",
   "execution_count": null,
   "metadata": {},
   "outputs": [],
   "source": [
    "# This is a code cell. Like a Markdown cell, you can execute it by holding Shift and pressing Enter.\n",
    "# Any output will appear beneath the cell after execution.\n",
    "# Try executing this cell now.\n",
    "\n",
    "x = 2 + 2\n",
    "print(x)"
   ]
  },
  {
   "cell_type": "markdown",
   "metadata": {},
   "source": [
    "The blue cursor to the left indicates your current cell selection. Executing a cell with Shift + Enter automatically advances the cursor to the next cell. You can execute a cell without advancing the cursor by holding Ctrl and pressing Enter. You can also move the cursor up and down with your arrow keys.\n",
    "\n",
    "**Using the down arrow, move the cursor to the code cell below. Then, execute the cell using Ctrl + Enter.**"
   ]
  },
  {
   "cell_type": "code",
   "execution_count": null,
   "metadata": {},
   "outputs": [],
   "source": [
    "y = 10 / 4\n",
    "print(y)"
   ]
  },
  {
   "cell_type": "markdown",
   "metadata": {},
   "source": [
    "Instead of clicking with your mouse, you can enter *edit mode* to change the content of the selected cell by pressing Enter. When you enter edit mode, a blue border will appear around the selected cell. You can return to *command mode* by pressing the Esc key.\n",
    "\n",
    "**Try these shortcuts now.**\n",
    "\n"
   ]
  },
  {
   "cell_type": "code",
   "execution_count": 3,
   "metadata": {},
   "outputs": [],
   "source": [
    "# Executing a cell will also return you to command mode.\n",
    "# Try entering edit mode, typing your name between the quotes below, and executing this cell.\n",
    "\n",
    "first_name = ''\n",
    "print(f'Your first name is {first_name}.')"
   ]
  },
  {
   "cell_type": "markdown",
   "metadata": {},
   "source": [
    "You can create new cells by clicking the \"+ Code\" and \"+ Markdown\" buttons in the toolbar at the top of the screen. The same buttons will appear when you hover your mouse over the bottom of any cell. New cells created using these buttons will appear directly beneath the selected cell.\n",
    "\n",
    "You can delete the selected cell by pressing the Delete key.\n",
    "\n",
    "**Try creating and deleting a new code cell beneath this Markdown cell.**\n",
    "\n",
    "*Note: The Delete key will only delete the selected cell if you are in command mode.*\n"
   ]
  },
  {
   "cell_type": "markdown",
   "metadata": {},
   "source": [
    "When in command mode, instead of using the \"+ Code\" button, you can insert a new code cell <ins>b</ins>elow the selected cell by pressing the <ins>b</ins> key. You can insert a new code cell <ins>a</ins>bove the selected cell by pressing the <ins>a</ins> key.\n",
    "\n",
    "The <ins>m</ins> key will convert a code cell into a <ins>M</ins>arkdown cell, and the y key will convert a Markdown cell into a code cell.\n",
    "\n",
    "**Add code cells above and below this cell. Convert one into a Markdown cell and back. Then, delete both.**"
   ]
  },
  {
   "cell_type": "code",
   "execution_count": null,
   "metadata": {},
   "outputs": [],
   "source": [
    "# In command mode, you can drag the selected cell up and down by holding Alt and pressing the up and \n",
    "# down arrow keys.\n",
    "# Try dragging this cell in-between the two lines below."
   ]
  },
  {
   "cell_type": "markdown",
   "metadata": {},
   "source": [
    "---"
   ]
  },
  {
   "cell_type": "markdown",
   "metadata": {},
   "source": [
    "---"
   ]
  },
  {
   "cell_type": "markdown",
   "metadata": {},
   "source": [
    "In command mode, you can copy, cut, and paste cells using c, x, and v. You do not need to hold the control key.\n",
    "\n",
    "Pasted cells will appear below the selected cell."
   ]
  },
  {
   "cell_type": "code",
   "execution_count": null,
   "metadata": {},
   "outputs": [],
   "source": [
    "# Copy this cell with c and paste it below the line with v."
   ]
  },
  {
   "cell_type": "markdown",
   "metadata": {},
   "source": [
    "---"
   ]
  },
  {
   "cell_type": "markdown",
   "metadata": {},
   "source": [
    "In command mode, you can highlight multiple cells by holding Shift and moving the cursor up or down with the arrow keys. Pressing the Esc key will deselect highlighted cells.\n",
    "\n",
    "**Highlight the two duplicate cells and the line above, and then delete them.**"
   ]
  },
  {
   "cell_type": "markdown",
   "metadata": {},
   "source": [
    "When in command mode, you can undo the last action performed in command mode by pressing the z key. When in edit mode, you can undo the last action performed in the selected cell by holding Ctrl and pressing z.\n",
    "\n",
    "**Undo your last delete with z.**"
   ]
  },
  {
   "cell_type": "markdown",
   "metadata": {},
   "source": [
    "In the background of each notebook, a piece of the Jupyter Notebook software called a *kernel* is processing code and keeping track of variables. As long as the kernel remains active, it will recognize references to variables defined earlier. \n",
    "\n",
    "**Execute the code cell below.**"
   ]
  },
  {
   "cell_type": "code",
   "execution_count": null,
   "metadata": {},
   "outputs": [],
   "source": [
    "# The kernel will remember the values of x and y.\n",
    "\n",
    "print(x)\n",
    "print(y)"
   ]
  },
  {
   "cell_type": "markdown",
   "metadata": {},
   "source": [
    "You can restart the kernel by clicking the \"Restart\" button in the toolbar. Separately, you can clear the outputs of all cells by clicking \"Clear All Outputs\".\n",
    "\n",
    "**Restart the kernel, clear all outputs, and then execute the cell above.**"
   ]
  },
  {
   "cell_type": "markdown",
   "metadata": {},
   "source": [
    "The kernel will not recognize these variables unless you re-execute the cells containing their definitions. You can see a list of defined variables by clicking the \"Variables\" button in the toolbar.\n",
    "\n",
    "**Click the \"Variables\" button. Scroll up and execute the cells that define x and y. Then, re-execute the code cell above.**"
   ]
  },
  {
   "cell_type": "code",
   "execution_count": null,
   "metadata": {},
   "outputs": [],
   "source": [
    "# To avoid scrolling back and forth, after restarting the kernel, you can redefine all of your variables\n",
    "# by executing all of the cells in your notebook with the \"Run All\" button. \n",
    "# Try it now.\n",
    "\n",
    "print(f\"Oh, that's right - your first name is {first_name}.\\n\\nNice to meet you!\")"
   ]
  }
 ],
 "metadata": {
  "kernelspec": {
   "display_name": "Python 3",
   "language": "python",
   "name": "python3"
  },
  "language_info": {
   "codemirror_mode": {
    "name": "ipython",
    "version": 3
   },
   "file_extension": ".py",
   "mimetype": "text/x-python",
   "name": "python",
   "nbconvert_exporter": "python",
   "pygments_lexer": "ipython3",
   "version": "3.10.13"
  }
 },
 "nbformat": 4,
 "nbformat_minor": 2
}
