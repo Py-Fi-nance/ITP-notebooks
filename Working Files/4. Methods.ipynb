{
 "cells": [
  {
   "cell_type": "markdown",
   "metadata": {},
   "source": [
    "# **4. Methods**"
   ]
  },
  {
   "cell_type": "markdown",
   "metadata": {},
   "source": [
    "---\n",
    "\n",
    "## **Introduction**\n",
    "\n",
    "#### <ins>Definitions</ins>\n",
    "\n",
    "An attribute is a named object associated with an object type.\n",
    "\n",
    "A method is a functional attribute.\n",
    "\n",
    "Specifically, methods are named operations for which objects of the type with which the method is associated can serve as an operand.\n",
    "\n",
    "<br>\n",
    "\n",
    "#### <ins>This Notebook Will Focus on Methods</ins>\n",
    "\n",
    "Almost all attributes of the types we have discussed are methods. Therefore, this notebook will provide a survey of the most useful methods associated with these object types.\n",
    "\n",
    "We will address non-functional attributes later in this class.\n",
    "\n",
    "<br>\n",
    "\n",
    "#### <ins>Syntax</ins>\n",
    "\n",
    "Attributes are accessed through the syntax `object.attribute`.\n",
    "\n",
    "Like functions, methods are called using the syntax `object.method(arguments)`.\n",
    "\n",
    "The interpreter implicitly passes methods their object as their first argument.\n",
    "\n",
    "Therefore, a method call is an operator combined with at least one operand.\n",
    "\n",
    "<br>\n",
    "\n",
    "\n",
    "\n",
    "#### <ins>Investigative vs. Transformative Methods</ins>\n",
    "\n",
    "In this notebook, methods are classified as either investigative or transformative. These are descriptive (not technical) terms.\n",
    "\n",
    "Investigative methods aim to answer questions about their object.\n",
    "\n",
    "Transformative methods aim to modify their object. Depending on the object type (specifically, the type's mutability), transformative methods may produce a new version of their object, or they may modify their object in place (which means that the original object will change without a new assignment statement)."
   ]
  },
  {
   "cell_type": "markdown",
   "metadata": {},
   "source": [
    "---\n",
    "\n",
    "## **String Methods**\n",
    "\n",
    "[String methods](https://docs.python.org/3/library/stdtypes.html#string-methods) are named operations for which any string can serve as an operand. \n",
    "\n",
    "Transformative string methods return a new version of their string."
   ]
  },
  {
   "cell_type": "markdown",
   "metadata": {},
   "source": [
    "<br>\n",
    "\n",
    "#### <ins>Investigative Methods</ins>\n",
    "\n",
    "You can test the beginning and ending of a string with the `startswith` and `endswith` methods."
   ]
  },
  {
   "cell_type": "code",
   "execution_count": 19,
   "metadata": {},
   "outputs": [
    {
     "name": "stdout",
     "output_type": "stream",
     "text": [
      "True\n",
      "False\n"
     ]
    }
   ],
   "source": [
    "headline = 'Wells Fargo issues buy recommendation for Pfizer'\n",
    "print(headline.startswith('Wells Fargo'))\n",
    "\n",
    "city = 'Charlotte, NC'\n",
    "print(city.endswith('FL'))"
   ]
  },
  {
   "cell_type": "markdown",
   "metadata": {},
   "source": [
    "<br>\n",
    "\n",
    "Like the elements of a list, the characters of a string are indexed, subscribable, and slicable."
   ]
  },
  {
   "cell_type": "code",
   "execution_count": 2,
   "metadata": {},
   "outputs": [
    {
     "name": "stdout",
     "output_type": "stream",
     "text": [
      "$\n",
      "Pfizer\n"
     ]
    }
   ],
   "source": [
    "price_string = \"Pfizer's stock price is $29.01.\"\n",
    "print(price_string[24])\n",
    "print(price_string[:6])"
   ]
  },
  {
   "cell_type": "markdown",
   "metadata": {},
   "source": [
    "<br>\n",
    "\n",
    "You can use the `index` method to find the index of the first instance of a character or series of characters in a string."
   ]
  },
  {
   "cell_type": "code",
   "execution_count": 14,
   "metadata": {},
   "outputs": [
    {
     "name": "stdout",
     "output_type": "stream",
     "text": [
      "24\n",
      "9\n",
      "27\n"
     ]
    }
   ],
   "source": [
    "print(price_string.index('$'))\n",
    "print(price_string.index('stock'))\n",
    "print(price_string.index('.'))"
   ]
  },
  {
   "cell_type": "markdown",
   "metadata": {},
   "source": [
    "<br>\n",
    "\n",
    "You can use the `count` method to count the occurrences of a character or series of characters in a string."
   ]
  },
  {
   "cell_type": "code",
   "execution_count": 15,
   "metadata": {},
   "outputs": [
    {
     "data": {
      "text/plain": [
       "2"
      ]
     },
     "execution_count": 15,
     "metadata": {},
     "output_type": "execute_result"
    }
   ],
   "source": [
    "price_string.count('.')"
   ]
  },
  {
   "cell_type": "markdown",
   "metadata": {},
   "source": [
    "<br>\n",
    "\n",
    "**Exercise**\n",
    "\n",
    "Write one line of code that will assign the stock price to the corresponding variable when given either of the following strings.</p>"
   ]
  },
  {
   "cell_type": "code",
   "execution_count": 32,
   "metadata": {},
   "outputs": [
    {
     "name": "stdout",
     "output_type": "stream",
     "text": [
      "29.01\n"
     ]
    }
   ],
   "source": [
    "pfe_string = \"Wells Fargo projects that Pfizer's stock price will rise to $29.01 by the year's end.\"\n",
    "jnj_string = \"JPMorgan projects that Johnson & Johnson's stock price will rise to $165.86 by the year's end.\"\n",
    "\n",
    "# Your second line of code should be the same as the first except for swapping pfe_string with jnj_string.\n",
    "# You will need to use the the index method inside a slicing.\n",
    "\n",
    "pfe_price =\n",
    "jnj_price = \n",
    "\n",
    "print(pfe_price)\n",
    "print(jnj_price)"
   ]
  },
  {
   "cell_type": "markdown",
   "metadata": {},
   "source": [
    "<br>\n",
    "\n",
    "**<p style = \"color: red\">Solution**</p>"
   ]
  },
  {
   "cell_type": "code",
   "execution_count": 35,
   "metadata": {},
   "outputs": [
    {
     "name": "stdout",
     "output_type": "stream",
     "text": [
      "29.01\n",
      "165.86\n"
     ]
    }
   ],
   "source": [
    "pfe_string = \"Wells Fargo projects that Pfizer's stock price will rise to $29.01 by the year's end.\"\n",
    "jnj_string = \"JPMorgan projects that Johnson & Johnson's stock price will rise to $165.86 by the year's end.\"\n",
    "\n",
    "pfe_price = pfe_string[pfe_string.index('$') : pfe_string.index('.') + 3]\n",
    "jnj_price = jnj_string[jnj_string.index('$') : jnj_string.index('.') + 3]\n",
    "\n",
    "print(pfe_price)\n",
    "print(jnj_price)"
   ]
  },
  {
   "cell_type": "markdown",
   "metadata": {},
   "source": [
    "<br>\n",
    "\n",
    "#### <ins>Transformative Methods</ins>\n",
    "\n",
    "You can transform the casing of a string using the `upper`, `lower`, and `title` methods (which are equivalent to the upper, lower, and proper functions in Excel)."
   ]
  },
  {
   "cell_type": "code",
   "execution_count": 2,
   "metadata": {},
   "outputs": [
    {
     "name": "stdout",
     "output_type": "stream",
     "text": [
      "JNJ\n",
      "jnj\n",
      "Johnson & Johnson\n"
     ]
    }
   ],
   "source": [
    "print('jnj'.upper())\n",
    "\n",
    "print('JNJ'.lower())\n",
    "\n",
    "print('johnson & johnson'.title())"
   ]
  },
  {
   "cell_type": "markdown",
   "metadata": {},
   "source": [
    "<br>\n",
    "\n",
    "You can replace parts of a string with the `replace` method. \n",
    "\n",
    "This method requires two arguments: the old string to remove and a new string to fill its place."
   ]
  },
  {
   "cell_type": "code",
   "execution_count": 4,
   "metadata": {},
   "outputs": [
    {
     "data": {
      "text/plain": [
       "'Johnson & Johnson'"
      ]
     },
     "execution_count": 4,
     "metadata": {},
     "output_type": "execute_result"
    }
   ],
   "source": [
    "#                             Old     New\n",
    "#                               |     |\n",
    "'Johnson and Johnson'.replace('and', '&')"
   ]
  },
  {
   "cell_type": "code",
   "execution_count": 47,
   "metadata": {},
   "outputs": [
    {
     "data": {
      "text/plain": [
       "'Johnson and Johnson'"
      ]
     },
     "execution_count": 47,
     "metadata": {},
     "output_type": "execute_result"
    }
   ],
   "source": [
    "company_name = 'Johnson and Johnson'"
   ]
  },
  {
   "cell_type": "markdown",
   "metadata": {},
   "source": [
    "<br>\n",
    "\n",
    "You can divide a string into a list of parts with the `split` method."
   ]
  },
  {
   "cell_type": "code",
   "execution_count": 12,
   "metadata": {},
   "outputs": [
    {
     "name": "stdout",
     "output_type": "stream",
     "text": [
      "['Pfizer', ' Johnson & Johnson', ' AbbVie']\n"
     ]
    }
   ],
   "source": [
    "# By default, the split method assumes that the parts of the string are delimited by spaces.\n",
    "\n",
    "#                                                        Delimiter\n",
    "#                                                        |\n",
    "pharma_list = 'Pfizer, Johnson & Johnson, AbbVie'.split(',')\n",
    "print(pharma_list)"
   ]
  },
  {
   "cell_type": "markdown",
   "metadata": {},
   "source": [
    "<br>\n",
    "\n",
    "You can remove leading and trailing whitespace from a string with the `strip` method."
   ]
  },
  {
   "cell_type": "code",
   "execution_count": 13,
   "metadata": {},
   "outputs": [
    {
     "name": "stdout",
     "output_type": "stream",
     "text": [
      "['Pfizer', 'Johnson & Johnson', ' AbbVie']\n",
      "['Pfizer', 'Johnson & Johnson', 'AbbVie']\n"
     ]
    }
   ],
   "source": [
    "pharma_list[1] = pharma_list[1].strip()\n",
    "print(pharma_list)\n",
    "pharma_list[2] = pharma_list[2].strip()\n",
    "print(pharma_list)"
   ]
  },
  {
   "cell_type": "markdown",
   "metadata": {},
   "source": [
    "<br>\n",
    "\n",
    "If you pass a single character as an argument to the `strip` method, that character (instead of spaces) will be removed from the beginning and end of the string."
   ]
  },
  {
   "cell_type": "code",
   "execution_count": 17,
   "metadata": {},
   "outputs": [
    {
     "name": "stdout",
     "output_type": "stream",
     "text": [
      "$29.01.\n",
      "29.01.\n",
      "29.01\n"
     ]
    }
   ],
   "source": [
    "price = '$29.01.'\n",
    "print(price)\n",
    "\n",
    "price = price.strip('$')\n",
    "print(price)\n",
    "\n",
    "price = price.strip('.')        # This will remove the ending period but not the decimal point.\n",
    "print(price)"
   ]
  },
  {
   "cell_type": "markdown",
   "metadata": {},
   "source": [
    "<br>\n",
    "\n",
    "To more efficiently remove multiple characters from the beginning and end of a string, you can pass the whole set of characters as a single argument."
   ]
  },
  {
   "cell_type": "code",
   "execution_count": 13,
   "metadata": {},
   "outputs": [
    {
     "data": {
      "text/plain": [
       "'29.01'"
      ]
     },
     "execution_count": 13,
     "metadata": {},
     "output_type": "execute_result"
    }
   ],
   "source": [
    "# The order of characters is insignificant.\n",
    "\n",
    "'$29.01.'.strip('$.')"
   ]
  },
  {
   "cell_type": "markdown",
   "metadata": {},
   "source": [
    "<br>\n",
    "\n",
    "**Exercise**\n",
    "\n",
    "Complete the following steps:\n",
    "1. Using the `replace` and `title` methods, change the company name to Johnson & Johnson.\n",
    "2. Add the company name to the dictionary.\n",
    "3. Using the `strip` method, remove the dollar sign and ending period from the price.\n",
    "4. Convert the price into a float.\n",
    "5. Calculate the company's P/E ratio, round the result to two decimal places, and add it to the dictionary.\n",
    "6. Print the dictionary."
   ]
  },
  {
   "cell_type": "code",
   "execution_count": 1,
   "metadata": {},
   "outputs": [],
   "source": [
    "company_name = 'johnson and johnson'\n",
    "\n",
    "jnj_projections = {\n",
    "    'Price' : '$165.86.',\n",
    "    'Earnings' : 6.62\n",
    "}\n",
    "\n",
    "# Complete the exercise below.\n",
    "\n"
   ]
  },
  {
   "cell_type": "markdown",
   "metadata": {},
   "source": [
    "**<p style = \"color: red\">Solution</p>**"
   ]
  },
  {
   "cell_type": "code",
   "execution_count": 14,
   "metadata": {},
   "outputs": [
    {
     "name": "stdout",
     "output_type": "stream",
     "text": [
      "{'Price': 165.86, 'Earnings': 6.62, 'Name': 'Johnson & Johnson', 'P/E Ratio': 25.05}\n"
     ]
    }
   ],
   "source": [
    "company_name = 'johnson and johnson'\n",
    "\n",
    "jnj_projections = {\n",
    "    'Price' : '$165.86.',\n",
    "    'Earnings' : 6.62\n",
    "}\n",
    "\n",
    "company_name = company_name.replace('and', '&').title()\n",
    "\n",
    "jnj_projections['Name'] = company_name\n",
    "\n",
    "jnj_projections['Price'] = float(jnj_projections['Price'].strip('$.'))\n",
    "jnj_projections['P/E Ratio'] = round(jnj_projections['Price'] / jnj_projections['Earnings'], 2)\n",
    "\n",
    "print(jnj_projections)"
   ]
  },
  {
   "cell_type": "markdown",
   "metadata": {},
   "source": [
    "---\n",
    "\n",
    "## **List Methods**\n",
    "\n",
    "List methods are named operations for which any list can serve as an operand.\n",
    "\n",
    "Transformative list methods modify their lists in place and return `None`.\n",
    "\n",
    "<br>\n",
    "\n",
    "#### <ins>Investigative Methods</ins>\n",
    "\n",
    "Like strings, lists implement their own version of the `count` and `index` methods."
   ]
  },
  {
   "cell_type": "code",
   "execution_count": 33,
   "metadata": {},
   "outputs": [
    {
     "name": "stdout",
     "output_type": "stream",
     "text": [
      "2\n",
      "1\n"
     ]
    }
   ],
   "source": [
    "analyst_recommendations = ['Buy', 'Sell', 'Hold', 'Buy']\n",
    "print(analyst_recommendations.count('Buy'))\n",
    "print(analyst_recommendations.index('Sell'))"
   ]
  },
  {
   "cell_type": "markdown",
   "metadata": {},
   "source": [
    "#### <ins>Transformative Methods</ins>\n",
    "\n",
    "You can add an object to the end of a list with the `append` method."
   ]
  },
  {
   "cell_type": "code",
   "execution_count": 53,
   "metadata": {},
   "outputs": [
    {
     "name": "stdout",
     "output_type": "stream",
     "text": [
      "['DUK', 'MMM', 'MCD', 'GE']\n"
     ]
    }
   ],
   "source": [
    "dividend_portfolio = ['DUK', 'MMM', 'MCD']\n",
    "dividend_portfolio.append('GE')                 # No assignment statement is necessary.\n",
    "print(dividend_portfolio)"
   ]
  },
  {
   "cell_type": "markdown",
   "metadata": {},
   "source": [
    "You can remove an object from a list with the `remove` method."
   ]
  },
  {
   "cell_type": "code",
   "execution_count": 5,
   "metadata": {},
   "outputs": [
    {
     "name": "stdout",
     "output_type": "stream",
     "text": [
      "['DUK', 'MMM', 'GE']\n"
     ]
    }
   ],
   "source": [
    "dividend_portfolio.remove('MCD')\n",
    "print(dividend_portfolio)"
   ]
  },
  {
   "cell_type": "markdown",
   "metadata": {},
   "source": [
    "<br>\n",
    "\n",
    "The `pop` method returns an element of a list while simultaneously removing it."
   ]
  },
  {
   "cell_type": "code",
   "execution_count": 54,
   "metadata": {},
   "outputs": [
    {
     "name": "stdout",
     "output_type": "stream",
     "text": [
      "Energy Transfer LP\n",
      "['Enterprise Products Partners', 'Enbridge']\n"
     ]
    }
   ],
   "source": [
    "# By default, the pop method removes and returns the element associated with index -1.\n",
    "# If the pop method receives a valid index as an argument, it will remove and return the associated element.\n",
    "\n",
    "next_pitch = 'Kinder Morgan'\n",
    "\n",
    "upcoming_pitches = ['Enterprise Products Partners', 'Enbridge', 'Energy Transfer LP']\n",
    "\n",
    "next_pitch = upcoming_pitches.pop()\n",
    "\n",
    "print(next_pitch)\n",
    "print(upcoming_pitches)"
   ]
  },
  {
   "cell_type": "markdown",
   "metadata": {},
   "source": [
    "<br>\n",
    "\n",
    "You can insert objects into a list using the `insert` method."
   ]
  },
  {
   "cell_type": "code",
   "execution_count": 40,
   "metadata": {},
   "outputs": [
    {
     "data": {
      "text/plain": [
       "['Enterprise Products Partners', 'Magellan Midstream Partners', 'Enbridge']"
      ]
     },
     "execution_count": 40,
     "metadata": {},
     "output_type": "execute_result"
    }
   ],
   "source": [
    "# The insert method adds the given object before the list element associated with the given index.\n",
    "\n",
    "upcoming_pitches.insert(1, 'Magellan Midstream Partners')\n",
    "upcoming_pitches"
   ]
  },
  {
   "cell_type": "markdown",
   "metadata": {},
   "source": [
    "<br>\n",
    "\n",
    "You can reverse the order of a list with the `reverse` method and sort a list using the `sort` method."
   ]
  },
  {
   "cell_type": "code",
   "execution_count": 43,
   "metadata": {},
   "outputs": [
    {
     "name": "stdout",
     "output_type": "stream",
     "text": [
      "['Magellan Midstream Partners', 'Enterprise Products Partners', 'Enbridge']\n",
      "['Enbridge', 'Enterprise Products Partners', 'Magellan Midstream Partners']\n"
     ]
    }
   ],
   "source": [
    "# The reverse method reverses the existing order of elements.\n",
    "\n",
    "upcoming_pitches.reverse()\n",
    "print(upcoming_pitches)\n",
    "\n",
    "\n",
    "# By default, the sort method sorts elements in ascending order.\n",
    "# You can sort in descending order by adding the argument reverse=True.\n",
    "\n",
    "upcoming_pitches.sort()\n",
    "print(upcoming_pitches)"
   ]
  },
  {
   "cell_type": "markdown",
   "metadata": {},
   "source": [
    "<br>\n",
    "\n",
    "Finally, you can clear a list with the `clear` method."
   ]
  },
  {
   "cell_type": "code",
   "execution_count": 45,
   "metadata": {},
   "outputs": [
    {
     "name": "stdout",
     "output_type": "stream",
     "text": [
      "[]\n"
     ]
    }
   ],
   "source": [
    "upcoming_pitches.clear()\n",
    "print(upcoming_pitches)"
   ]
  },
  {
   "cell_type": "markdown",
   "metadata": {},
   "source": [
    "<br>\n",
    "\n",
    "**Exercise**\n",
    "\n",
    "Complete the following steps:\n",
    "1. Insert 'Dominion Energy' into upcoming_pitches after 'Southern Company'.\n",
    "2. Append 'NiSource' to the end of upcoming_pitches.\n",
    "3. Remove 'Duke Energy'.\n",
    "4. Reverse the order of upcoming_pitches.\n",
    "5. Use the `pop` method to assign 'Southern Company' to next_pitch.\n",
    "6. Print next_pitch and upcoming_pitches."
   ]
  },
  {
   "cell_type": "code",
   "execution_count": 56,
   "metadata": {},
   "outputs": [
    {
     "name": "stdout",
     "output_type": "stream",
     "text": [
      "Southern Company\n",
      "['NiSource', 'American Electric Power', 'Dominion Energy']\n"
     ]
    }
   ],
   "source": [
    "next_pitch = 'NextEra Energy'\n",
    "\n",
    "upcoming_pitches = ['Duke Energy', 'Southern Company', 'American Electric Power']\n",
    "\n",
    "# Complete the exercise below.\n",
    "\n"
   ]
  },
  {
   "cell_type": "markdown",
   "metadata": {},
   "source": [
    "**<p style = \"Color: red\">Solution</p>**"
   ]
  },
  {
   "cell_type": "code",
   "execution_count": null,
   "metadata": {},
   "outputs": [
    {
     "name": "stdout",
     "output_type": "stream",
     "text": [
      "Southern Company\n",
      "['NiSource', 'American Electric Power', 'Dominion Energy']\n"
     ]
    }
   ],
   "source": [
    "next_pitch = 'NextEra Energy'\n",
    "\n",
    "upcoming_pitches = ['Duke Energy', 'Southern Company', 'American Electric Power']\n",
    "\n",
    "# Complete the exercise below.\n",
    "\n",
    "upcoming_pitches.insert(2, 'Dominion Energy')\n",
    "upcoming_pitches.append('NiSource')\n",
    "upcoming_pitches.remove('Duke Energy')\n",
    "upcoming_pitches.reverse()\n",
    "next_pitch = upcoming_pitches.pop()\n",
    "\n",
    "print(next_pitch)\n",
    "print(upcoming_pitches)"
   ]
  },
  {
   "cell_type": "markdown",
   "metadata": {},
   "source": [
    "---\n",
    "\n",
    "## **Dictionary Methods**\n",
    "\n",
    "Dictionary methods are named operations for which any dictionary can serve as an operand.\n",
    "\n",
    "Transformative dictionary methods modify their dictionary in place.\n",
    "\n",
    "<br>\n",
    "\n",
    "#### <ins>Investigative Methods</ins>\n",
    "\n",
    "The `items` method returns a *view object* containing all of the items in a dictionary.\n",
    "\n",
    "*<p style = \"Color: #BFBFBF\">(The term \"view object\", like \"container\", refers to a member of a group of types.)</p>*"
   ]
  },
  {
   "cell_type": "code",
   "execution_count": 65,
   "metadata": {},
   "outputs": [
    {
     "name": "stdout",
     "output_type": "stream",
     "text": [
      "dict_items([('Energy Transfer LP', 'Mark McDuffie'), ('Magellan Midstream Partners', 'Mark McDuffie'), ('AbbVie', 'Shawn Dryer'), ('Johnson & Johnson', 'Shawn Dryer'), ('Honeywell International', 'Lisa Moffit')])\n",
      "<class 'dict_items'>\n"
     ]
    }
   ],
   "source": [
    "client_coverage = {\n",
    "    'Energy Transfer LP' : 'Mark McDuffie',\n",
    "    'Magellan Midstream Partners' : 'Mark McDuffie',\n",
    "    'AbbVie' : 'Shawn Dryer',\n",
    "    'Johnson & Johnson' : 'Shawn Dryer',\n",
    "    'Honeywell International' : 'Lisa Moffit'\n",
    "}\n",
    "\n",
    "print(client_coverage.items())\n",
    "print(type(client_coverage.items()))"
   ]
  },
  {
   "cell_type": "markdown",
   "metadata": {},
   "source": [
    "<br>\n",
    "\n",
    "View objects are dynamic; in other words, they automatically reflect changes to the dictionary."
   ]
  },
  {
   "cell_type": "code",
   "execution_count": 64,
   "metadata": {},
   "outputs": [
    {
     "data": {
      "text/plain": [
       "dict_items([('Energy Transfer LP', 'Mark McDuffie'), ('Magellan Midstream Partners', 'Mark McDuffie'), ('AbbVie', 'Shawn Dryer'), ('Johnson & Johnson', 'Shawn Dryer'), ('Honeywell International', 'Lisa Moffit'), ('Nvidia', 'Russell Peters')])"
      ]
     },
     "execution_count": 64,
     "metadata": {},
     "output_type": "execute_result"
    }
   ],
   "source": [
    "item_view = client_coverage.items()\n",
    "\n",
    "client_coverage['Nvidia'] = 'Russell Peters'\n",
    "\n",
    "item_view"
   ]
  },
  {
   "cell_type": "markdown",
   "metadata": {},
   "source": [
    "<br>\n",
    "\n",
    "View objects support membership testing with `in` and are compatible with the `len` function."
   ]
  },
  {
   "cell_type": "code",
   "execution_count": 69,
   "metadata": {},
   "outputs": [
    {
     "name": "stdout",
     "output_type": "stream",
     "text": [
      "True\n",
      "5\n"
     ]
    }
   ],
   "source": [
    "print(('Energy Transfer LP', 'Mark McDuffie') in client_coverage.items())\n",
    "\n",
    "print(len(client_coverage.items()))"
   ]
  },
  {
   "cell_type": "markdown",
   "metadata": {},
   "source": [
    "<br>\n",
    "\n",
    "The `keys` and `values` methods return view objects containing the keys and values of a dictionary."
   ]
  },
  {
   "cell_type": "code",
   "execution_count": 70,
   "metadata": {},
   "outputs": [
    {
     "name": "stdout",
     "output_type": "stream",
     "text": [
      "dict_keys(['Energy Transfer LP', 'Magellan Midstream Partners', 'AbbVie', 'Johnson & Johnson', 'Honeywell International'])\n",
      "<class 'dict_keys'>\n",
      "-\n",
      "dict_values(['Mark McDuffie', 'Mark McDuffie', 'Shawn Dryer', 'Shawn Dryer', 'Lisa Moffit'])\n",
      "<class 'dict_values'>\n"
     ]
    }
   ],
   "source": [
    "print(client_coverage.keys())\n",
    "print(type(client_coverage.keys()))\n",
    "\n",
    "print('-')\n",
    "\n",
    "print(client_coverage.values())\n",
    "print(type(client_coverage.values()))"
   ]
  },
  {
   "cell_type": "markdown",
   "metadata": {},
   "source": [
    "<br>\n",
    "\n",
    "**Exercise**\n",
    "\n",
    "Print the items, keys, and values of jnj_projections."
   ]
  },
  {
   "cell_type": "code",
   "execution_count": 2,
   "metadata": {},
   "outputs": [
    {
     "data": {
      "text/plain": [
       "{'Price': '$165.86.', 'Earnings': 6.62}"
      ]
     },
     "execution_count": 2,
     "metadata": {},
     "output_type": "execute_result"
    }
   ],
   "source": [
    "print(jnj_projections)\n",
    "\n",
    "# Complete the exercise below.\n",
    "\n"
   ]
  },
  {
   "cell_type": "markdown",
   "metadata": {},
   "source": [
    "<br>\n",
    "\n",
    "**<p style = \"Color: red\">Solution</p>**"
   ]
  },
  {
   "cell_type": "code",
   "execution_count": 3,
   "metadata": {},
   "outputs": [
    {
     "name": "stdout",
     "output_type": "stream",
     "text": [
      "{'Price': '$165.86.', 'Earnings': 6.62}\n",
      "dict_items([('Price', '$165.86.'), ('Earnings', 6.62)])\n",
      "dict_keys(['Price', 'Earnings'])\n",
      "dict_values(['$165.86.', 6.62])\n"
     ]
    }
   ],
   "source": [
    "print(jnj_projections)\n",
    "\n",
    "# Complete the exercise below.\n",
    "\n",
    "print(jnj_projections.items())\n",
    "print(jnj_projections.keys())\n",
    "print(jnj_projections.values())"
   ]
  },
  {
   "cell_type": "markdown",
   "metadata": {},
   "source": [
    "<br>\n",
    "\n",
    "#### <ins>Transformative Methods</ins>\n",
    "\n",
    "Like lists, dictionaries implement their own version of the `pop` and `clear` methods.\n",
    "\n",
    "The dictionary version of `pop` requires a key, returns a value, and removes an item."
   ]
  },
  {
   "cell_type": "code",
   "execution_count": 20,
   "metadata": {},
   "outputs": [
    {
     "name": "stdout",
     "output_type": "stream",
     "text": [
      "1\n",
      "{'two': 2}\n"
     ]
    }
   ],
   "source": [
    "dict_1 = {\n",
    "    'one' : 1,\n",
    "    'two' : 2\n",
    "}\n",
    "\n",
    "returned_value = dict_1.pop('one')\n",
    "\n",
    "print(returned_value)\n",
    "print(dict_1)"
   ]
  },
  {
   "cell_type": "markdown",
   "metadata": {},
   "source": [
    "<br>\n",
    "\n",
    "The dictionary `clear` method syntax is the same as the list version."
   ]
  },
  {
   "cell_type": "code",
   "execution_count": 21,
   "metadata": {},
   "outputs": [
    {
     "name": "stdout",
     "output_type": "stream",
     "text": [
      "{}\n"
     ]
    }
   ],
   "source": [
    "dict_1.clear()\n",
    "print(dict_1)"
   ]
  },
  {
   "cell_type": "markdown",
   "metadata": {},
   "source": [
    "<br>\n",
    "\n",
    "**Exercise**\n",
    "\n",
    "Complete the following steps:\n",
    "1. Using the `pop` method, append Johnson & Johnson's projected earnings to earnings_list.\n",
    "2. Print earnings_list and jnj_projections.\n",
    "3. Clear jnj_projections.\n",
    "4. Print jnj_projections again."
   ]
  },
  {
   "cell_type": "code",
   "execution_count": 16,
   "metadata": {},
   "outputs": [
    {
     "data": {
      "text/plain": [
       "dict_items([])"
      ]
     },
     "execution_count": 16,
     "metadata": {},
     "output_type": "execute_result"
    }
   ],
   "source": [
    "# As a reminder, here are the items in jnj_projections:\n",
    "\n",
    "jnj_projections.items()"
   ]
  },
  {
   "cell_type": "code",
   "execution_count": 15,
   "metadata": {},
   "outputs": [
    {
     "name": "stdout",
     "output_type": "stream",
     "text": [
      "[6.62]\n",
      "{'Price': 165.86, 'Name': 'Johnson & Johnson', 'P/E Ratio': 25.05}\n",
      "{}\n"
     ]
    }
   ],
   "source": [
    "earnings_list = []         # Creating an empty list for later use is called \"initializing\" a list.\n",
    "\n",
    "# Complete the exercise below.\n",
    "\n",
    "earnings_list.append(jnj_projections.pop('Earnings'))\n",
    "\n",
    "print(earnings_list)\n",
    "print(jnj_projections)\n",
    "\n",
    "jnj_projections.clear()\n",
    "\n",
    "print(jnj_projections)"
   ]
  },
  {
   "cell_type": "markdown",
   "metadata": {},
   "source": [
    "**<p style = \"Color: red\">Solution</p>**"
   ]
  },
  {
   "cell_type": "code",
   "execution_count": null,
   "metadata": {},
   "outputs": [
    {
     "name": "stdout",
     "output_type": "stream",
     "text": [
      "[6.62]\n",
      "{'Price': 165.86, 'Name': 'Johnson & Johnson', 'P/E Ratio': 25.05}\n",
      "{}\n"
     ]
    }
   ],
   "source": [
    "earnings_list = []         # Creating an empty list for later use is called \"initializing\" a list.\n",
    "\n",
    "# Complete the exercise below.\n",
    "\n",
    "earnings_list.append(jnj_projections.pop('Earnings'))\n",
    "\n",
    "print(earnings_list)\n",
    "print(jnj_projections)\n",
    "\n",
    "jnj_projections.clear()\n",
    "\n",
    "print(jnj_projections)"
   ]
  },
  {
   "cell_type": "markdown",
   "metadata": {},
   "source": [
    "---\n",
    "\n",
    "## **Set Methods**\n",
    "\n",
    "[Set methods](https://docs.python.org/3/library/stdtypes.html#set-types-set-frozenset) are named operations for which any set can serve as an operand.\n",
    "\n",
    "Transformative set methods modify their set in place.\n",
    "\n",
    "<br>\n",
    "\n",
    "#### <ins>Investigative Methods</ins>\n",
    "\n",
    "Almost all investigative set methods (e.g. `union`, `intersection`, and `difference`) implement the same operations as set operators (e.g. `|`, `&`, and `-`)."
   ]
  },
  {
   "cell_type": "code",
   "execution_count": 1,
   "metadata": {},
   "outputs": [
    {
     "name": "stdout",
     "output_type": "stream",
     "text": [
      "Union\n",
      "{'AAPL', 'AMZN', 'TGT', 'WMT', 'GOOGL'}\n",
      "-\n",
      "Intersection\n",
      "{'AMZN'}\n",
      "-\n",
      "Difference\n",
      "{'AAPL', 'GOOGL'}\n",
      "{'WMT', 'TGT'}\n"
     ]
    }
   ],
   "source": [
    "tech_companies = {'AAPL', 'GOOGL', 'AMZN'}\n",
    "retail_companies = {'WMT', 'AMZN', 'TGT'}\n",
    "\n",
    "print('Union')\n",
    "print(tech_companies.union(retail_companies))\n",
    "print('-')\n",
    "\n",
    "print('Intersection')\n",
    "print(tech_companies.intersection(retail_companies))\n",
    "print('-')\n",
    "\n",
    "print('Difference')\n",
    "print(tech_companies.difference(retail_companies))\n",
    "print(retail_companies.difference(tech_companies))"
   ]
  },
  {
   "cell_type": "markdown",
   "metadata": {},
   "source": [
    "<br>\n",
    "\n",
    "#### <ins>Transformative Methods</ins>\n",
    "\n",
    "Like lists, sets implement their own version of `add` and `remove`..."
   ]
  },
  {
   "cell_type": "code",
   "execution_count": 7,
   "metadata": {},
   "outputs": [
    {
     "name": "stdout",
     "output_type": "stream",
     "text": [
      "{1, 2, 3, 'a'}\n",
      "-\n",
      "{1, 2, 3, 4, 'a'}\n",
      "-\n",
      "{1, 2, 3, 4}\n"
     ]
    }
   ],
   "source": [
    "integer_set = {1, 'a', 2, 3}\n",
    "print(integer_set)\n",
    "print('-')\n",
    "\n",
    "integer_set.add(4)\n",
    "print(integer_set)\n",
    "print('-')\n",
    "\n",
    "integer_set.remove('a')\n",
    "print(integer_set)"
   ]
  },
  {
   "cell_type": "markdown",
   "metadata": {},
   "source": [
    "<br>\n",
    "\n",
    "...as well as `pop` and `clear`."
   ]
  },
  {
   "cell_type": "code",
   "execution_count": 8,
   "metadata": {},
   "outputs": [
    {
     "name": "stdout",
     "output_type": "stream",
     "text": [
      "1\n",
      "2\n",
      "{3, 4}\n",
      "-\n",
      "set()\n"
     ]
    }
   ],
   "source": [
    "print(integer_set.pop())\n",
    "print(integer_set.pop())\n",
    "print(integer_set)\n",
    "print('-')\n",
    "\n",
    "integer_set.clear()\n",
    "print(integer_set)"
   ]
  },
  {
   "cell_type": "markdown",
   "metadata": {},
   "source": [
    "---\n",
    "\n",
    "## **Tuple Methods**\n",
    "\n",
    "Tuple methods are named operations for which any tuple can serve as an operand.\n",
    "\n",
    "Tuples do not have any transformative methods."
   ]
  },
  {
   "cell_type": "markdown",
   "metadata": {},
   "source": [
    "<br>\n",
    "\n",
    "#### <ins>Investigative Methods</ins>\n",
    "\n",
    "Tuples implement the `count` and `index` methods."
   ]
  },
  {
   "cell_type": "code",
   "execution_count": 13,
   "metadata": {},
   "outputs": [
    {
     "name": "stdout",
     "output_type": "stream",
     "text": [
      "2\n",
      "1\n"
     ]
    }
   ],
   "source": [
    "example_tuple = ('a', 'b', 'c', 'c')\n",
    "\n",
    "print(example_tuple.count('c'))\n",
    "print(example_tuple.index('b'))"
   ]
  },
  {
   "cell_type": "markdown",
   "metadata": {},
   "source": [
    "---\n",
    "\n",
    "## **Methods are Objects**\n",
    "\n",
    "Like functions, methods can be assigned to variables, stored in containers, and passed as arguments to functions."
   ]
  },
  {
   "cell_type": "code",
   "execution_count": 2,
   "metadata": {},
   "outputs": [
    {
     "data": {
      "text/plain": [
       "[2, 3, 4]"
      ]
     },
     "execution_count": 2,
     "metadata": {},
     "output_type": "execute_result"
    }
   ],
   "source": [
    "even_list = [2, 3]\n",
    "\n",
    "x = even_list.append\n",
    "\n",
    "x(4)\n",
    "\n",
    "even_list"
   ]
  },
  {
   "cell_type": "code",
   "execution_count": 3,
   "metadata": {},
   "outputs": [
    {
     "data": {
      "text/plain": [
       "[2, 4]"
      ]
     },
     "execution_count": 3,
     "metadata": {},
     "output_type": "execute_result"
    }
   ],
   "source": [
    "method_dict = {'y' : even_list.remove}\n",
    "\n",
    "method_dict['y'](3)\n",
    "\n",
    "even_list"
   ]
  },
  {
   "cell_type": "code",
   "execution_count": 4,
   "metadata": {},
   "outputs": [
    {
     "data": {
      "text/plain": [
       "builtin_function_or_method"
      ]
     },
     "execution_count": 4,
     "metadata": {},
     "output_type": "execute_result"
    }
   ],
   "source": [
    "type(even_list.append)"
   ]
  }
 ],
 "metadata": {
  "kernelspec": {
   "display_name": "Python 3",
   "language": "python",
   "name": "python3"
  },
  "language_info": {
   "codemirror_mode": {
    "name": "ipython",
    "version": 3
   },
   "file_extension": ".py",
   "mimetype": "text/x-python",
   "name": "python",
   "nbconvert_exporter": "python",
   "pygments_lexer": "ipython3",
   "version": "3.10.13"
  }
 },
 "nbformat": 4,
 "nbformat_minor": 2
}
