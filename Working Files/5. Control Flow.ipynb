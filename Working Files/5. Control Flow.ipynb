{
 "cells": [
  {
   "cell_type": "markdown",
   "metadata": {},
   "source": [
    "# **5. Control Flow**"
   ]
  },
  {
   "cell_type": "markdown",
   "metadata": {},
   "source": [
    "---\n",
    "\n",
    "## **Introduction**\n",
    "\n",
    "#### <ins>Statements</ins>\n",
    "\n",
    "The statement is the basic syntactic unit of executable source code."
   ]
  },
  {
   "cell_type": "code",
   "execution_count": null,
   "metadata": {},
   "outputs": [],
   "source": [
    "round(4 / 7, 2)"
   ]
  },
  {
   "cell_type": "markdown",
   "metadata": {},
   "source": [
    "A statement may contain many components, but if those components are not arranged into a statement, they cannot be executed."
   ]
  },
  {
   "cell_type": "code",
   "execution_count": null,
   "metadata": {},
   "outputs": [],
   "source": [
    "# /\n",
    "\n",
    "# round()"
   ]
  },
  {
   "cell_type": "markdown",
   "metadata": {},
   "source": [
    "<br>\n",
    "\n",
    "Python supports 23 kinds of statements ([simple](https://docs.python.org/3/reference/simple_stmts.html) and [compound](https://docs.python.org/3/reference/compound_stmts.html)), each of which is defined and recognizable by its unique syntax.\n",
    "\n",
    "So far in this class, we have seen [expression statements](https://docs.python.org/3/reference/simple_stmts.html#expression-statements), [assignment statements](https://docs.python.org/3/reference/simple_stmts.html#assignment-statements), and one [delete statement](https://docs.python.org/3/reference/simple_stmts.html#the-del-statement)."
   ]
  },
  {
   "cell_type": "code",
   "execution_count": null,
   "metadata": {},
   "outputs": [],
   "source": [
    "# Expression Statements\n",
    "\n",
    "2 + 2\n",
    "\n",
    "# len([1, 2, 3])\n",
    "\n",
    "# print('This is an expression statement.')"
   ]
  },
  {
   "cell_type": "code",
   "execution_count": 9,
   "metadata": {},
   "outputs": [],
   "source": [
    "# Assignment Statements\n",
    "\n",
    "x = 4\n",
    "\n",
    "example_dictionary = {\n",
    "    'one' : 1,\n",
    "    'two' : 2,\n",
    "    'three' : 3\n",
    "}\n",
    "\n",
    "example_dictionary['four'] = x"
   ]
  },
  {
   "cell_type": "code",
   "execution_count": 10,
   "metadata": {},
   "outputs": [],
   "source": [
    "# Delete Statement\n",
    "\n",
    "del example_dictionary['one']"
   ]
  },
  {
   "cell_type": "markdown",
   "metadata": {},
   "source": [
    "<br>\n",
    "\n",
    "By default, statements are executed in a linear sequence."
   ]
  },
  {
   "cell_type": "code",
   "execution_count": null,
   "metadata": {},
   "outputs": [],
   "source": [
    "a, b, c = 1, 2, 3\n",
    "print(f'a = {a}')\n",
    "print(f'b = {b}')\n",
    "print(f'c = {c}')"
   ]
  },
  {
   "cell_type": "markdown",
   "metadata": {},
   "source": [
    "<br>\n",
    "\n",
    "The course of statement execution, sometimes called *execution flow*, is most commonly known as *control flow*."
   ]
  },
  {
   "cell_type": "markdown",
   "metadata": {},
   "source": [
    "<br>\n",
    "\n",
    "#### <ins>Control Flow Operations</ins>\n",
    "\n",
    "Control flow operations modify the flow of execution.\n",
    "\n",
    "Control flow operations are divisable into two categories: branching and looping.\n",
    "\n",
    "Control flow operations are triggered by control flow statements.\n",
    "\n",
    "Because control flow statements contain other statements, they are classified as compound statements.\n",
    "\n",
    "<br>\n",
    "\n",
    "#### <ins>A Note Regarding the \"Control\" in Control Flow</ins>\n",
    "\n",
    "Despite much searching, I have never encountered a clear explanation of the word “control” in this term. \n",
    "\n",
    "My best guess is that the word \"control\" comes from the idea that the statement being executed is \"controlling\" the interpreter. Based on this idea, you could say that one statement has control until its execution is complete, at which point it transfers control to the next statement."
   ]
  },
  {
   "cell_type": "markdown",
   "metadata": {},
   "source": [
    "---\n",
    "\n",
    "## **The `if` Operation**\n",
    "\n",
    "#### <ins>Introduction</ins>\n",
    "\n",
    "The `if` operation (which is triggered by an `if` statement) adds a branch to the flow of execution."
   ]
  },
  {
   "cell_type": "code",
   "execution_count": 67,
   "metadata": {},
   "outputs": [],
   "source": [
    "jacket = 'No Jacket'\n",
    "weather = 'Raining'"
   ]
  },
  {
   "cell_type": "code",
   "execution_count": null,
   "metadata": {},
   "outputs": [],
   "source": [
    "# The following assignment statement will be executed only if the condition proves true.\n",
    "\n",
    "if weather == 'Raining':        # In syntactic terms, this line is a header.\n",
    "    jacket = 'Rain Jacket'      # This line is a suite. \n",
    "                                # Together, they form a clause.\n",
    "                                # Because this if statement contains only one clause,\n",
    "                                # the if statement and the clause are coterminal.\n",
    "\n",
    "print(jacket)"
   ]
  },
  {
   "cell_type": "markdown",
   "metadata": {},
   "source": [
    "<br>\n",
    "\n",
    "You can add unlimited `elif` (else-if) clauses to an `if` statement to test multiple conditions."
   ]
  },
  {
   "cell_type": "code",
   "execution_count": 75,
   "metadata": {},
   "outputs": [],
   "source": [
    "weather = 'Raining'"
   ]
  },
  {
   "cell_type": "code",
   "execution_count": null,
   "metadata": {},
   "outputs": [],
   "source": [
    "if weather == 'Raining':\n",
    "    jacket = 'Rain Jacket'\n",
    "elif weather == 'Cool':\n",
    "    jacket = 'Light Jacket'\n",
    "elif weather == 'Snowing':\n",
    "    jacket = 'Winter Coat'\n",
    "\n",
    "print(jacket)"
   ]
  },
  {
   "cell_type": "markdown",
   "metadata": {},
   "source": [
    "<br>\n",
    "\n",
    "An `else` clause at the end of an `if` statement specifies an operation to execute if all prior conditions have failed."
   ]
  },
  {
   "cell_type": "code",
   "execution_count": 76,
   "metadata": {},
   "outputs": [],
   "source": [
    "weather = 'Sunny'"
   ]
  },
  {
   "cell_type": "code",
   "execution_count": null,
   "metadata": {},
   "outputs": [],
   "source": [
    "if weather == 'Raining':\n",
    "    jacket = 'Rain Jacket'\n",
    "elif weather == 'Cool':\n",
    "    jacket = 'Light Jacket'\n",
    "elif weather == 'Snowing':\n",
    "    jacket = 'Winter Coat'\n",
    "# else:\n",
    "#     jacket = 'No Jacket'\n",
    "\n",
    "print(jacket)"
   ]
  },
  {
   "cell_type": "markdown",
   "metadata": {},
   "source": [
    "#### <ins>Syntax</ins>\n",
    "\n",
    "Both `if` and `elif` headers are made up of a keyword, a condition, and a colon. \n",
    "\n",
    "`else` headers are the same except that they do not include a condition.\n",
    "\n",
    "Any suite can contain any Python code. \n",
    "\n",
    "If an `if` statement contains multiple clauses, all suites must be indented."
   ]
  },
  {
   "cell_type": "code",
   "execution_count": 7,
   "metadata": {},
   "outputs": [],
   "source": [
    "# Keyword              Colon\n",
    "# /                    |\n",
    "if weather == 'Raining':\n",
    "#  \\_________________/\n",
    "#       Condition\n",
    "\n",
    "\n",
    "# Indentation\n",
    "# |\n",
    "    jacket = 'Rain Jacket'\n",
    "#   \\___________________/\n",
    "#      Any Python code\n"
   ]
  },
  {
   "cell_type": "markdown",
   "metadata": {},
   "source": [
    "<br>\n",
    "\n",
    "If an `if` statement contains only one clause, then its suite can be on the same line as its header."
   ]
  },
  {
   "cell_type": "code",
   "execution_count": 2,
   "metadata": {},
   "outputs": [],
   "source": [
    "jacket = 'No Jacket'\n",
    "weather = 'Raining'"
   ]
  },
  {
   "cell_type": "code",
   "execution_count": null,
   "metadata": {},
   "outputs": [],
   "source": [
    "if weather == 'Raining': jacket = 'Rain Jacket'      \n",
    "\n",
    "print(jacket)"
   ]
  },
  {
   "cell_type": "markdown",
   "metadata": {},
   "source": [
    "<br>\n",
    "\n",
    "Suites can contain multiple statements..."
   ]
  },
  {
   "cell_type": "code",
   "execution_count": 79,
   "metadata": {},
   "outputs": [],
   "source": [
    "jacket = 'No Jacket'\n",
    "shoes = 'Sandals'\n",
    "weather = 'Snowing'"
   ]
  },
  {
   "cell_type": "code",
   "execution_count": null,
   "metadata": {},
   "outputs": [],
   "source": [
    "if weather == 'Snowing':\n",
    "    jacket = 'Winter Coat'\n",
    "    shoes = 'Boots'\n",
    "\n",
    "print(f'Jacket = {jacket}')\n",
    "print(f'Shoes = {shoes}')\n"
   ]
  },
  {
   "cell_type": "markdown",
   "metadata": {},
   "source": [
    "<br>\n",
    "\n",
    "...including nested `if` statements."
   ]
  },
  {
   "cell_type": "code",
   "execution_count": 83,
   "metadata": {},
   "outputs": [],
   "source": [
    "jacket = 'No Jacket'\n",
    "weather = 'Raining'"
   ]
  },
  {
   "cell_type": "code",
   "execution_count": null,
   "metadata": {},
   "outputs": [],
   "source": [
    "# This if statement will execute a different suite the second time it is executed after an initial\n",
    "# mismatch between jacket and weather.\n",
    "\n",
    "print(f'Jacket = {jacket}')\n",
    "print(f'Weather = {weather}')\n",
    "print('-')\n",
    "\n",
    "if weather == 'Raining':\n",
    "    if jacket == 'Rain Jacket':                     # Suite 1\n",
    "        print('You did not change your jacket.')        # Suite 1.a\n",
    "    else:\n",
    "        jacket = 'Rain Jacket'                          # Suite 1.b\n",
    "        print('You put on your rain jacket.')           # (Will not repeat)\n",
    "else:\n",
    "    if jacket == 'No Jacket':                       # Suite 2\n",
    "        print('You did not put on a jacket.')           # Suite 2.a\n",
    "    else:\n",
    "        jacket = 'No Jacket'                            # Suite 2.b\n",
    "        print('You took off your jacket.')              # (Will not repeat)"
   ]
  },
  {
   "cell_type": "markdown",
   "metadata": {},
   "source": [
    "<br>\n",
    "\n",
    "Later clauses are not executed unless all earlier clauses fail."
   ]
  },
  {
   "cell_type": "code",
   "execution_count": 65,
   "metadata": {},
   "outputs": [],
   "source": [
    "temperature = 80"
   ]
  },
  {
   "cell_type": "code",
   "execution_count": null,
   "metadata": {},
   "outputs": [],
   "source": [
    "if temperature > 75:\n",
    "    jacket = 'No Jacket'        \n",
    "elif temperature > 50:          # This suite is not executed even though 80 > 50.\n",
    "    jacket = 'Light Jacket'\n",
    "else:\n",
    "    jacket = 'Winter Coat'\n",
    "\n",
    "print(jacket)"
   ]
  },
  {
   "cell_type": "markdown",
   "metadata": {},
   "source": [
    "<br>\n",
    "\n",
    "**Exercise**\n",
    "\n",
    "In the empty cell below, write an if statement that implements the following instructions:\n",
    "1. If Tesla's projected return is greater than 15%, append 'TSLA' to buy_list.\n",
    "2. If Tesla's projected return is less than or equal to 15% but greater than 8%, append 'TSLA' to hold_list.\n",
    "3. If Tesla's projected return is less than or equal to 8%, append 'TSLA' to sell_list."
   ]
  },
  {
   "cell_type": "code",
   "execution_count": 29,
   "metadata": {},
   "outputs": [],
   "source": [
    "# Initializing recommendation lists\n",
    "\n",
    "buy_list = []\n",
    "hold_list = []\n",
    "sell_list = []\n",
    "\n",
    "# Setting Tesla's projected return\n",
    "\n",
    "tsla_return = 0.17"
   ]
  },
  {
   "cell_type": "code",
   "execution_count": 32,
   "metadata": {},
   "outputs": [],
   "source": [
    "# Complete the exercise below.\n",
    "\n"
   ]
  },
  {
   "cell_type": "code",
   "execution_count": null,
   "metadata": {},
   "outputs": [],
   "source": [
    "# Displaying results\n",
    "\n",
    "print(f'Buy: {buy_list}')\n",
    "print(f'Hold: {hold_list}')\n",
    "print(f'Sell: {sell_list}')"
   ]
  }
 ],
 "metadata": {
  "kernelspec": {
   "display_name": "Python 3",
   "language": "python",
   "name": "python3"
  },
  "language_info": {
   "codemirror_mode": {
    "name": "ipython",
    "version": 3
   },
   "file_extension": ".py",
   "mimetype": "text/x-python",
   "name": "python",
   "nbconvert_exporter": "python",
   "pygments_lexer": "ipython3",
   "version": "3.12.1"
  }
 },
 "nbformat": 4,
 "nbformat_minor": 2
}
