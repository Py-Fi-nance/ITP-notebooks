{
 "cells": [
  {
   "cell_type": "markdown",
   "metadata": {},
   "source": [
    "# **3. Basic Operands**"
   ]
  },
  {
   "cell_type": "markdown",
   "metadata": {},
   "source": [
    "---\n",
    "\n",
    "## **Types**\n",
    "\n",
    "In Python, operands are called objects, and objects are classified by type (or \"class\").\n",
    "\n",
    "An object's type determines the operations for which it can serve as an operand."
   ]
  },
  {
   "cell_type": "markdown",
   "metadata": {},
   "source": [
    "---\n",
    "\n",
    "## **Integers, Floats, and Booleans**\n",
    "\n",
    "In this course, you have already seen three types of numeric objects: integers, decimal numbers (called \"floats\" in Python), and Booleans."
   ]
  },
  {
   "cell_type": "code",
   "execution_count": null,
   "metadata": {},
   "outputs": [],
   "source": [
    "# The type function returns the type of an object.\n",
    "\n",
    "print(type(2))\n",
    "print(type(2.0))\n",
    "print(type(True))"
   ]
  },
  {
   "cell_type": "markdown",
   "metadata": {},
   "source": [
    "<br>\n",
    "\n",
    "The Boolean type is a sub-type of integer. `True` is equivalent to `1` and `False` is equivalent to `0`."
   ]
  },
  {
   "cell_type": "code",
   "execution_count": null,
   "metadata": {},
   "outputs": [],
   "source": [
    "print(True == 1)\n",
    "print(False == 0)\n",
    "print(True + 3)"
   ]
  },
  {
   "cell_type": "markdown",
   "metadata": {},
   "source": [
    "<br>\n",
    "\n",
    "You can convert objects of compatible types into integers, floats, and Booleans using the `int`, `float`, and `bool` functions."
   ]
  },
  {
   "cell_type": "code",
   "execution_count": null,
   "metadata": {},
   "outputs": [],
   "source": [
    "print(int(1.9))            # Note that the int function truncates instead of rounding.\n",
    "print(float(True))\n",
    "print(bool(0))"
   ]
  },
  {
   "cell_type": "markdown",
   "metadata": {},
   "source": [
    "---\n",
    "\n",
    "## **Strings**"
   ]
  },
  {
   "cell_type": "markdown",
   "metadata": {},
   "source": [
    "#### <ins>Syntax</ins>\n",
    "\n",
    "In Python, text objects are called strings.\n",
    "\n",
    "The interpreter identifies strings by the notation that marks their boundaries (their \"delimiters\").\n",
    "\n",
    "Strings can be delimited by single, double, or triple quotes."
   ]
  },
  {
   "cell_type": "code",
   "execution_count": null,
   "metadata": {},
   "outputs": [],
   "source": [
    "print(type('This is a string.'))\n",
    "print(type(\"This is also a string.\"))\n",
    "print(type('''This, too, is a string.'''))"
   ]
  },
  {
   "cell_type": "markdown",
   "metadata": {},
   "source": [
    "<br>\n",
    "\n",
    "A string must end with the same notation with which it was initiated."
   ]
  },
  {
   "cell_type": "code",
   "execution_count": null,
   "metadata": {},
   "outputs": [],
   "source": [
    "'This is not going to work.\""
   ]
  },
  {
   "cell_type": "markdown",
   "metadata": {},
   "source": [
    "<br>\n",
    "\n",
    "You can include single or double quotes in a string by delimiting the string with alternate notation."
   ]
  },
  {
   "cell_type": "code",
   "execution_count": null,
   "metadata": {},
   "outputs": [],
   "source": [
    "print(\"Walmart's current stock price is $68.13.\")\n",
    "print('CEO Doug McMillon said, \"As we invest in technology, we want our people to go with us.\"')"
   ]
  },
  {
   "cell_type": "markdown",
   "metadata": {},
   "source": [
    "<br>\n",
    "\n",
    "When you need both single and double quotes in a string, preceding quotes with the `\\` symbol will prevent the interpreter from treating them as delimiters."
   ]
  },
  {
   "cell_type": "code",
   "execution_count": null,
   "metadata": {},
   "outputs": [],
   "source": [
    "print('Walmart\\'s CEO said, \"As we invest in technology, we want our people to go with us.\"')"
   ]
  },
  {
   "cell_type": "markdown",
   "metadata": {},
   "source": [
    "<br>\n",
    "\n",
    "Alternatively, you can delimit the string with triple quotes."
   ]
  },
  {
   "cell_type": "code",
   "execution_count": null,
   "metadata": {},
   "outputs": [],
   "source": [
    "print('''Walmart's CEO said, \"As we invest in technology, we want our people to go with us.\"''')"
   ]
  },
  {
   "cell_type": "markdown",
   "metadata": {},
   "source": [
    "<br>\n",
    "\n",
    "A string delimited with triple quotes can span multiple lines."
   ]
  },
  {
   "cell_type": "code",
   "execution_count": null,
   "metadata": {},
   "outputs": [],
   "source": [
    "print('''WMT\n",
    "---\n",
    "Price: $68.13\n",
    "P/E Ratio: 35.48\n",
    "Beta: 0.50''')"
   ]
  },
  {
   "cell_type": "markdown",
   "metadata": {},
   "source": [
    "<br>\n",
    "\n",
    "#### <ins>Concatenation and Repetition</ins>"
   ]
  },
  {
   "cell_type": "markdown",
   "metadata": {},
   "source": [
    "As you would expect, strings cannot serve as operands for the same operations as numeric objects."
   ]
  },
  {
   "cell_type": "code",
   "execution_count": null,
   "metadata": {},
   "outputs": [],
   "source": [
    "# Python can calculate the absolute value of an integer...\n",
    "\n",
    "abs(-10)"
   ]
  },
  {
   "cell_type": "code",
   "execution_count": null,
   "metadata": {},
   "outputs": [],
   "source": [
    "# ...but not of a string.\n",
    "\n",
    "abs('Test string')"
   ]
  },
  {
   "cell_type": "markdown",
   "metadata": {},
   "source": [
    "<br>\n",
    "\n",
    "However, when given strings as operands, the `+` symbol initiates concatenation instead of addition."
   ]
  },
  {
   "cell_type": "code",
   "execution_count": null,
   "metadata": {},
   "outputs": [],
   "source": [
    "'Introduction to ' + 'Python'"
   ]
  },
  {
   "cell_type": "markdown",
   "metadata": {},
   "source": [
    "<br>\n",
    "\n",
    "Similarly, the `*` symbol initiates repetition instead of multiplication."
   ]
  },
  {
   "cell_type": "code",
   "execution_count": null,
   "metadata": {},
   "outputs": [],
   "source": [
    "'Go! ' * 3"
   ]
  },
  {
   "cell_type": "markdown",
   "metadata": {},
   "source": [
    "<br>\n",
    "\n",
    "#### <ins>Interpolation</ins>"
   ]
  },
  {
   "cell_type": "markdown",
   "metadata": {},
   "source": [
    "Interpolation is an operation in which a textual representation of an object is inserted into a string. Python provides multiple methods of string interpolation, but the most common is called [formatted string literals](https://docs.python.org/3/reference/lexical_analysis.html#f-strings) (or \"f-strings\" for short).\n",
    "\n",
    "F-strings (and other interpolation methods) are used to produce dynamic text outputs."
   ]
  },
  {
   "cell_type": "code",
   "execution_count": null,
   "metadata": {},
   "outputs": [],
   "source": [
    "# For example, if you developed an algorithm to predict a company's stock price...\n",
    "\n",
    "ticker = 'MSFT'\n",
    "change = 'fall'\n",
    "predicted_price = 416.21\n",
    "\n",
    "# ...you could automatically output your results using an f-string.\n",
    "\n",
    "print(f'Our algorithm predicts that the price of {ticker} will {change} to ${predicted_price}.')    "
   ]
  },
  {
   "cell_type": "markdown",
   "metadata": {},
   "source": [
    "<br>\n",
    "\n",
    "F-strings begin with the letter `f` followed by a string containing some number of *replacement fields* (expressions delimited with curly brackets).\n",
    "\n",
    "The interpreter evaluates the expression in each replacement field and, if necessary, converts its result into a string. "
   ]
  },
  {
   "cell_type": "code",
   "execution_count": null,
   "metadata": {},
   "outputs": [],
   "source": [
    "f'Two plus two is equal to {2 + 2}.'"
   ]
  },
  {
   "cell_type": "markdown",
   "metadata": {},
   "source": [
    "<br>\n",
    "\n",
    "In some cases, you may want to change the formatting of your interpolated object."
   ]
  },
  {
   "cell_type": "code",
   "execution_count": null,
   "metadata": {},
   "outputs": [],
   "source": [
    "predicted_price = 416.20\n",
    "\n",
    "print(f'Our algorithm predicts that the price of {ticker} will {change} to ${predicted_price}.')    "
   ]
  },
  {
   "cell_type": "markdown",
   "metadata": {},
   "source": [
    "<br>\n",
    "\n",
    "You can achieve this by adding a formatting specification to any replacement field.\n",
    "\n",
    "Python includes a [Formatting Specification Mini-Language](https://docs.python.org/3/library/string.html#format-specification-mini-language) that is comparable to Excel's custom formatting notation. \n",
    "\n",
    "Use a `:` to separate your formatting specification from the object you want to insert into your string. "
   ]
  },
  {
   "cell_type": "code",
   "execution_count": null,
   "metadata": {},
   "outputs": [],
   "source": [
    "# The formatting spec .2f tells the interpreter to display predicted_price as a floating point\n",
    "# number with two decimal places.\n",
    "\n",
    "print(f'Our algorithm predicts that the price of {ticker} will {change} to ${predicted_price:.2f}.')    "
   ]
  },
  {
   "cell_type": "markdown",
   "metadata": {},
   "source": [
    "<br>\n",
    "\n",
    "#### <ins>Other Operations</ins>\n",
    "\n",
    "You can test whether a character or series of characters is in a string with the `in` keyword."
   ]
  },
  {
   "cell_type": "code",
   "execution_count": 1,
   "metadata": {},
   "outputs": [
    {
     "data": {
      "text/plain": [
       "True"
      ]
     },
     "execution_count": 1,
     "metadata": {},
     "output_type": "execute_result"
    }
   ],
   "source": [
    "excerpt = \"PPG's depreciation expense is calculated using the straight-line depreciation method.\"\n",
    "'straight-line' in excerpt"
   ]
  },
  {
   "cell_type": "markdown",
   "metadata": {},
   "source": [
    "<br>\n",
    "\n",
    "You can use the `len` function to check the length of a string."
   ]
  },
  {
   "cell_type": "code",
   "execution_count": 2,
   "metadata": {},
   "outputs": [
    {
     "data": {
      "text/plain": [
       "85"
      ]
     },
     "execution_count": 2,
     "metadata": {},
     "output_type": "execute_result"
    }
   ],
   "source": [
    "len(excerpt)"
   ]
  },
  {
   "cell_type": "markdown",
   "metadata": {},
   "source": [
    "<br>\n",
    "\n",
    "#### <ins>The </ins>`str`<ins> Function</ins>\n",
    "\n",
    "You can convert objects of almost any type into a string by using the `str` function."
   ]
  },
  {
   "cell_type": "code",
   "execution_count": null,
   "metadata": {},
   "outputs": [],
   "source": [
    "my_string = str(123)\n",
    "print(my_string * 2)"
   ]
  },
  {
   "cell_type": "markdown",
   "metadata": {},
   "source": [
    "---\n",
    "\n",
    "## **Containers**\n",
    "\n",
    "Containers (or \"data structures\") are operands that contain other operands.\n",
    "\n",
    "Python provides multiple types of containers which differ in:\n",
    "1) The way they organize the objects they contain (their \"elements\") and \n",
    "2) The operations for which they can serve as an operand.\n",
    "\n"
   ]
  },
  {
   "cell_type": "markdown",
   "metadata": {},
   "source": [
    "---\n",
    "\n",
    "## **Lists**\n",
    "\n",
    "#### <ins>Definition</ins>\n",
    "\n",
    "A list is a container that organizes its elements in a sequence."
   ]
  },
  {
   "cell_type": "markdown",
   "metadata": {},
   "source": [
    "<br>\n",
    "\n",
    "#### <ins>Syntax</ins>\n",
    "\n",
    "The interpreter identifies lists by their delimiters, square brackets.\n",
    "\n",
    "Each element of a list is separated by a comma."
   ]
  },
  {
   "cell_type": "code",
   "execution_count": null,
   "metadata": {},
   "outputs": [],
   "source": [
    "#            In syntactic terms, this is a list display.\n",
    "#            |\n",
    "list_a = [1, 2, 3]          \n",
    "print(list_a)\n",
    "print(type(list_a))"
   ]
  },
  {
   "cell_type": "markdown",
   "metadata": {},
   "source": [
    "<br>\n",
    "\n",
    "#### <ins>Elements</ins>\n",
    "\n",
    "Lists can contain objects of any type, including other lists.\n",
    "\n",
    "The interpreter will first evaluate an expression in a list display and then store its result in the list."
   ]
  },
  {
   "cell_type": "code",
   "execution_count": null,
   "metadata": {},
   "outputs": [],
   "source": [
    "example_list = [2, 10.7, False, abs(10 - 50), 'Test String', list_a]\n",
    "example_list"
   ]
  },
  {
   "cell_type": "markdown",
   "metadata": {},
   "source": [
    "<br>\n",
    "\n",
    "Each element of a list is associated with an index number beginning with zero."
   ]
  },
  {
   "cell_type": "code",
   "execution_count": null,
   "metadata": {},
   "outputs": [],
   "source": [
    "abc_list = ['a', 'b', 'c']\n",
    "#            0    1    2"
   ]
  },
  {
   "cell_type": "markdown",
   "metadata": {},
   "source": [
    "<br>\n",
    "\n",
    "#### <ins>Subscription</ins>\n",
    "\n",
    "You can access a single element of a list through an operation called subscription (or \"indexing\").\n",
    "\n",
    "The operation of subscription is initiated by a syntactic pattern which is called by the same name.\n",
    "\n",
    "Syntactically, a subscription is a list (or an identifier bound to a list) followed by a pair of square brackets containing the index of an element in the list.\n"
   ]
  },
  {
   "cell_type": "code",
   "execution_count": null,
   "metadata": {},
   "outputs": [],
   "source": [
    "print(abc_list[0])          # In syntactic terms, this is a subscription.\n",
    "print(abc_list[2])          # Subscription is also commonly called \"indexing\"."
   ]
  },
  {
   "cell_type": "markdown",
   "metadata": {},
   "source": [
    "<br>\n",
    "\n",
    "If an index in a subscription does not correspond to a list element, the interpreter will raise an IndexError."
   ]
  },
  {
   "cell_type": "code",
   "execution_count": null,
   "metadata": {},
   "outputs": [],
   "source": [
    "print(abc_list[5])"
   ]
  },
  {
   "cell_type": "markdown",
   "metadata": {},
   "source": [
    "<br>\n",
    "\n",
    "The interpreter evaluates expressions before subscriptions.\n",
    "\n",
    "Therefore, you can use an expression in a subscription as long as the expression results in a valid index."
   ]
  },
  {
   "cell_type": "code",
   "execution_count": null,
   "metadata": {},
   "outputs": [],
   "source": [
    "abc_list[-4 + 6]"
   ]
  },
  {
   "cell_type": "markdown",
   "metadata": {},
   "source": [
    "<br>\n",
    "\n",
    "#### <ins>Slicing</ins>\n",
    "\n",
    "You can extract multiple consecutive elements from a list through an operation called slicing.\n",
    "\n",
    "The operation of slicing is initiated by a syntactic pattern which is called by the same name."
   ]
  },
  {
   "cell_type": "code",
   "execution_count": null,
   "metadata": {},
   "outputs": [],
   "source": [
    "# In its most basic form, a slicing contains a start index and an end index separated by a colon.\n",
    "\n",
    "print(abc_list[0:2])         # In syntactic terms, this is a slicing."
   ]
  },
  {
   "cell_type": "markdown",
   "metadata": {},
   "source": [
    "<br>\n",
    "\n",
    "Unlike subscription, which can return an object of any type, slicing a list always produces another list."
   ]
  },
  {
   "cell_type": "code",
   "execution_count": null,
   "metadata": {},
   "outputs": [],
   "source": [
    "print(abc_list[0])               # This subscription will return a string.\n",
    "print(type(abc_list[0]))\n",
    "\n",
    "print('-')\n",
    "\n",
    "print(abc_list[0:2])             # This slicing will return a list.\n",
    "print(type(abc_list[0:2]))"
   ]
  },
  {
   "cell_type": "markdown",
   "metadata": {},
   "source": [
    "The list returned by a slicing includes the element associated with the start index of the slicing but excludes the element associated with the end index of the slicing."
   ]
  },
  {
   "cell_type": "markdown",
   "metadata": {},
   "source": [
    "<br>\n",
    "\n",
    "When a slice involves the first or last element in a list, the associated index can be ommitted."
   ]
  },
  {
   "cell_type": "code",
   "execution_count": null,
   "metadata": {},
   "outputs": [],
   "source": [
    "print(abc_list)\n",
    "print(abc_list[:2])  # When the start index is omitted, the slice will start with the first element.\n",
    "print(abc_list[1:])  # When the end index is omitted, the slice will end with the last element.\n",
    "print(abc_list[:])   # A slice without either index will return the whole list."
   ]
  },
  {
   "cell_type": "markdown",
   "metadata": {},
   "source": [
    "<br>\n",
    "\n",
    "By default, a slicing will return an uninterrupted series of consecutive elements.\n",
    "\n",
    "However, you can skip elements by adding a *step* value after the second index in a slicing."
   ]
  },
  {
   "cell_type": "code",
   "execution_count": null,
   "metadata": {},
   "outputs": [],
   "source": [
    "numbers = [1, 2, 3, 4, 5, 6, 7, 8]\n",
    "\n",
    "even_numbers = numbers[1:9:2]               # (This 9 can be ommitted without consequence.)\n",
    "#                          |\n",
    "#                          Step\n",
    "\n",
    "even_numbers"
   ]
  },
  {
   "cell_type": "markdown",
   "metadata": {},
   "source": [
    "<br>\n",
    "\n",
    "#### <ins>Negative Indices</ins>\n",
    "\n",
    "Each element in a list is also associated with a negative index.\n",
    "\n",
    "You can use negative indices to reference elements based on their distance from the end of the list."
   ]
  },
  {
   "cell_type": "code",
   "execution_count": null,
   "metadata": {},
   "outputs": [],
   "source": [
    "abc_list = ['a', 'b', 'c']\n",
    "#           -3   -2   -1\n",
    "\n",
    "print(abc_list[-1])\n",
    "print(abc_list[-2:])"
   ]
  },
  {
   "cell_type": "markdown",
   "metadata": {},
   "source": [
    "<br>\n",
    "\n",
    "#### <ins>Index Assignment</ins>\n",
    "\n",
    "You can change an element of a list by targeting the associated index in an assignment statement."
   ]
  },
  {
   "cell_type": "code",
   "execution_count": null,
   "metadata": {},
   "outputs": [],
   "source": [
    "# UPDATE THIS EXAMPLE\n",
    "\n",
    "test_list = [1, 1, 3]\n",
    "print(test_list)\n",
    "\n",
    "test_list[1] = 2\n",
    "print(test_list)"
   ]
  },
  {
   "cell_type": "markdown",
   "metadata": {},
   "source": [
    "<br>\n",
    "\n",
    "If you attempt to assign an object to an index beyond the range of a list, the interpreter will raise an IndexError."
   ]
  },
  {
   "cell_type": "code",
   "execution_count": null,
   "metadata": {},
   "outputs": [],
   "source": [
    "test_list[3] = 4\n",
    "test_list"
   ]
  },
  {
   "cell_type": "markdown",
   "metadata": {},
   "source": [
    "<br>\n",
    "\n",
    "#### <ins>Other Operations</ins>\n",
    "\n",
    "As with strings, the `+` and `*` symbols initiate concatenation and repetition when they receive lists as arguments."
   ]
  },
  {
   "cell_type": "code",
   "execution_count": null,
   "metadata": {},
   "outputs": [],
   "source": [
    "list_b = [4, 5, 6]\n",
    "print(list_a + list_b)\n",
    "print(list_a * 2)"
   ]
  },
  {
   "cell_type": "markdown",
   "metadata": {},
   "source": [
    "<br>\n",
    "\n",
    "The `len` function returns the length of a list."
   ]
  },
  {
   "cell_type": "code",
   "execution_count": null,
   "metadata": {},
   "outputs": [],
   "source": [
    "len(list_b)"
   ]
  },
  {
   "cell_type": "markdown",
   "metadata": {},
   "source": [
    "<br>\n",
    "\n",
    "The `in` keyword tests membership."
   ]
  },
  {
   "cell_type": "code",
   "execution_count": null,
   "metadata": {},
   "outputs": [],
   "source": [
    "5 in list_b"
   ]
  },
  {
   "cell_type": "markdown",
   "metadata": {},
   "source": [
    "<br>\n",
    "\n",
    "#### <ins>The </ins>`list`<ins> Function</ins>\n",
    "\n",
    "You can convert compatible objects into a list by using the `list` function."
   ]
  },
  {
   "cell_type": "code",
   "execution_count": null,
   "metadata": {},
   "outputs": [],
   "source": [
    "xyz_list = list('xyz')\n",
    "print(xyz_list)"
   ]
  },
  {
   "cell_type": "markdown",
   "metadata": {},
   "source": [
    "---\n",
    "\n",
    "## **Dictionaries**\n",
    "\n",
    "#### <ins>Definition</ins>\n",
    "\n",
    "A dictionary is a container that organizes its elements in key-value pairs.\n",
    "\n",
    "#### <ins>Syntax</ins>\n",
    "\n",
    "Dictionaries are delimited by curly brackets. Keys precede values and are separated from values with a colon. Key-value pairs (\"items\") are separated by commas."
   ]
  },
  {
   "cell_type": "code",
   "execution_count": null,
   "metadata": {},
   "outputs": [],
   "source": [
    "#                                     In syntactic terms, this is a dictionary display.\n",
    "#                                     |\n",
    "example_dictionary = {'one' : 1, 'two' : 2, 'three' : 3}\n",
    "#                       |     |\n",
    "#                     Key     Value\n",
    "\n",
    "print(example_dictionary)\n",
    "print(type(example_dictionary))"
   ]
  },
  {
   "cell_type": "markdown",
   "metadata": {},
   "source": [
    "<br>\n",
    "\n",
    "To make your code easier to read, you can split dictionary displays across multiple lines."
   ]
  },
  {
   "cell_type": "code",
   "execution_count": null,
   "metadata": {},
   "outputs": [],
   "source": [
    "# This is the conventional format for writing dictionary displays.\n",
    "# The interpreter will ignore spaces, newlines, and indents.\n",
    "\n",
    "example_dictionary = {\n",
    "    'one' : 1, \n",
    "    'two' : 2, \n",
    "    'three' : 3\n",
    "}\n",
    "\n",
    "print(example_dictionary)"
   ]
  },
  {
   "cell_type": "markdown",
   "metadata": {},
   "source": [
    "<br>\n",
    "\n",
    "Any object can serve as a value in a dictionary. However, dictionary keys must be [hashable objects](https://docs.python.org/3/glossary.html#term-hashable). \n",
    "\n",
    "Numeric types and strings are hashable. Lists and dictionaries are not."
   ]
  },
  {
   "cell_type": "code",
   "execution_count": null,
   "metadata": {},
   "outputs": [],
   "source": [
    "# NOTE TO SELF: MAKE THIS EXAMPLE MEANINGFUL INSTEAD OF ARBITRARY.\n",
    "\n",
    "new_dictionary = {\n",
    "    1 : [1, 2, 3],\n",
    "    5.7 : {'one' : 1, 'two' : 2},\n",
    "    True : 'value',\n",
    "    'key' : 10\n",
    "}\n",
    "\n",
    "print(new_dictionary)"
   ]
  },
  {
   "cell_type": "code",
   "execution_count": null,
   "metadata": {},
   "outputs": [],
   "source": [
    "# NOTE TO SELF: MAKE THIS EXAMPLE MEANINGFUL INSTEAD OF ARBITRARY.\n",
    "\n",
    "bad_dictionary = {\n",
    "    [1, 2, 3] : 'value'\n",
    "}"
   ]
  },
  {
   "cell_type": "markdown",
   "metadata": {},
   "source": [
    "<br>\n",
    "\n",
    "#### <ins>Subscription</ins>\n",
    "\n",
    "As with list elements, you can access dictionary values through subscription.\n",
    "\n",
    "The syntax of dictionary subscription is the same as list subscription except that keys replace index numbers."
   ]
  },
  {
   "cell_type": "code",
   "execution_count": null,
   "metadata": {},
   "outputs": [],
   "source": [
    "example_dictionary['two']"
   ]
  },
  {
   "cell_type": "markdown",
   "metadata": {},
   "source": [
    "<br>\n",
    "\n",
    "Using an invalid key in a dictionary subscription will cause the interpreter to raise a KeyError."
   ]
  },
  {
   "cell_type": "code",
   "execution_count": null,
   "metadata": {},
   "outputs": [],
   "source": [
    "example_dictionary['four']"
   ]
  },
  {
   "cell_type": "markdown",
   "metadata": {},
   "source": [
    "<br>\n",
    "\n",
    "A dictionary subscription can contain an expression that evaluates to a valid key."
   ]
  },
  {
   "cell_type": "code",
   "execution_count": null,
   "metadata": {},
   "outputs": [],
   "source": [
    "example_dictionary['o'+'n'+'e']"
   ]
  },
  {
   "cell_type": "markdown",
   "metadata": {},
   "source": [
    "<br>\n",
    "\n",
    "#### <ins>Key Assignment</ins>\n",
    "\n",
    "You can replace a previously defined value by targeting the associated key in an assignment statement."
   ]
  },
  {
   "cell_type": "code",
   "execution_count": null,
   "metadata": {},
   "outputs": [],
   "source": [
    "# Example\n",
    "\n",
    "# dict[old_key] = new_value"
   ]
  },
  {
   "cell_type": "markdown",
   "metadata": {},
   "source": [
    "<br>\n",
    "\n",
    "Targeting a new key in an assignment statement will add a new item to a dictionary."
   ]
  },
  {
   "cell_type": "code",
   "execution_count": null,
   "metadata": {},
   "outputs": [],
   "source": [
    "# Example\n",
    "\n",
    "# dict_[new_key] = new_value\n",
    "# dict[new_key]"
   ]
  },
  {
   "cell_type": "markdown",
   "metadata": {},
   "source": [
    "<br>\n",
    "\n",
    "#### <ins>Other Operations</ins>\n",
    "\n",
    "To delete an item, use the `del` keyword."
   ]
  },
  {
   "cell_type": "code",
   "execution_count": null,
   "metadata": {},
   "outputs": [],
   "source": [
    "# del dict[key]\n",
    "# dict"
   ]
  },
  {
   "cell_type": "markdown",
   "metadata": {},
   "source": [
    "<br>\n",
    "\n",
    "As with lists, the `len` function will return the number of items in a dictionary..."
   ]
  },
  {
   "cell_type": "code",
   "execution_count": null,
   "metadata": {},
   "outputs": [],
   "source": [
    "# len(dict)"
   ]
  },
  {
   "cell_type": "markdown",
   "metadata": {},
   "source": [
    "<br>\n",
    "\n",
    "...and the `in` keyword will test for membership among a dictionary's keys. "
   ]
  },
  {
   "cell_type": "code",
   "execution_count": null,
   "metadata": {},
   "outputs": [],
   "source": [
    "# key in dict"
   ]
  },
  {
   "cell_type": "markdown",
   "metadata": {},
   "source": [
    "<br>\n",
    "\n",
    "You can merge two dictionaries with the `|` operator.\n",
    "\n",
    "When two keys match, the value in the first dictionary will be overwritten by the value in the second."
   ]
  },
  {
   "cell_type": "code",
   "execution_count": null,
   "metadata": {},
   "outputs": [],
   "source": [
    "# dict_1 | dict_2"
   ]
  },
  {
   "cell_type": "markdown",
   "metadata": {},
   "source": [
    "<br>\n",
    "\n"
   ]
  },
  {
   "cell_type": "markdown",
   "metadata": {},
   "source": [
    "---\n",
    "\n",
    "## **Other Containers**\n",
    "\n",
    "#### <ins>Sets</ins>\n",
    "\n",
    "Sets contain collections of unique hashable objects.\n",
    "\n",
    "Like dictionaries, sets are delimited by curly brackets, and set elements are separated by commas."
   ]
  },
  {
   "cell_type": "code",
   "execution_count": null,
   "metadata": {},
   "outputs": [],
   "source": [
    "#                            In syntactic terms, this is a set display.\n",
    "#                            |\n",
    "tech_companies = {'AAPL', 'GOOGL', 'AMZN'}\n",
    "retail_companies = {'WMT', 'AMZN', 'TGT'}\n",
    "\n",
    "print(tech_companies)\n",
    "print(type(tech_companies))\n",
    "print('-')\n",
    "print(retail_companies)\n",
    "print(type(retail_companies))"
   ]
  },
  {
   "cell_type": "markdown",
   "metadata": {},
   "source": [
    "<br>\n",
    "\n",
    "Set operations include union, intersection, and difference, among [others](https://docs.python.org/3/library/stdtypes.html#set-types-set-frozenset)."
   ]
  },
  {
   "cell_type": "code",
   "execution_count": null,
   "metadata": {},
   "outputs": [],
   "source": [
    "# Union\n",
    "print(tech_companies | retail_companies)\n",
    "print()\n",
    "\n",
    "# Intersection\n",
    "print(tech_companies & retail_companies)\n",
    "print()\n",
    "\n",
    "# Difference\n",
    "print(tech_companies - retail_companies)\n",
    "print(retail_companies - tech_companies)\n",
    "print()"
   ]
  },
  {
   "cell_type": "markdown",
   "metadata": {},
   "source": [
    "Sets cannot contain duplicates."
   ]
  },
  {
   "cell_type": "code",
   "execution_count": null,
   "metadata": {},
   "outputs": [],
   "source": [
    "energy_companies = {'XOM', 'COP', 'BP', 'COP'}\n",
    "\n",
    "print(energy_companies)"
   ]
  },
  {
   "cell_type": "markdown",
   "metadata": {},
   "source": [
    "<br>\n",
    "\n",
    "Therefore, you can use the `set` function to remove duplicates from lists."
   ]
  },
  {
   "cell_type": "code",
   "execution_count": null,
   "metadata": {},
   "outputs": [],
   "source": [
    "stock_purchase_list = ['XOM', 'AMZN', 'MSFT', 'AMZN', 'WMT']\n",
    "stock_purchase_set = set(stock_purchase_list)\n",
    "\n",
    "print(stock_purchase_set)"
   ]
  },
  {
   "cell_type": "markdown",
   "metadata": {},
   "source": [
    "<br>\n",
    "\n",
    "As with other container types, you can use the `len` function and `in` keyword with sets to check length and membership."
   ]
  },
  {
   "cell_type": "code",
   "execution_count": null,
   "metadata": {},
   "outputs": [],
   "source": [
    "print(len(retail_companies))\n",
    "print('AAPL' in energy_companies)"
   ]
  },
  {
   "cell_type": "markdown",
   "metadata": {},
   "source": [
    "<br>\n",
    "\n",
    "#### <ins>Tuples</ins>\n",
    "\n",
    "Tuples are immutable lists.\n",
    "\n",
    "Tuples are delimited with parentheses."
   ]
  },
  {
   "cell_type": "code",
   "execution_count": null,
   "metadata": {},
   "outputs": [],
   "source": [
    "example_tuple = (1, 2, 3)\n",
    "type(example_tuple)"
   ]
  },
  {
   "cell_type": "markdown",
   "metadata": {},
   "source": [
    "<br>\n",
    "\n",
    "Tuples can be subscripted and sliced like lists."
   ]
  },
  {
   "cell_type": "code",
   "execution_count": null,
   "metadata": {},
   "outputs": [],
   "source": [
    "print(example_tuple[1])\n",
    "print(example_tuple[1:])        # This slicing will return a tuple."
   ]
  },
  {
   "cell_type": "markdown",
   "metadata": {},
   "source": [
    "<br>\n",
    "\n",
    "Once you create a tuple, you cannot change its elements."
   ]
  },
  {
   "cell_type": "code",
   "execution_count": null,
   "metadata": {},
   "outputs": [],
   "source": [
    "example_tuple[1] = 4"
   ]
  },
  {
   "cell_type": "markdown",
   "metadata": {},
   "source": [
    "<br>\n",
    "\n",
    "If all of its elements are hashable, a tuple is hashable and can be used as a dictionary key and a member of a set."
   ]
  },
  {
   "cell_type": "code",
   "execution_count": null,
   "metadata": {},
   "outputs": [],
   "source": [
    "test_dict = {\n",
    "    example_tuple : 'example_value'\n",
    "}\n",
    "print(test_dict)\n",
    "\n",
    "print('-')\n",
    "\n",
    "test_set = {example_tuple}\n",
    "print(test_set)"
   ]
  },
  {
   "cell_type": "markdown",
   "metadata": {},
   "source": [
    "---\n",
    "\n",
    "## **Functions**\n",
    "\n",
    "Functions are named operations which can also serve as operands.\n",
    "\n",
    "For example, you can bind a function to a variable name and call the function through the variable."
   ]
  },
  {
   "cell_type": "code",
   "execution_count": null,
   "metadata": {},
   "outputs": [],
   "source": [
    "x = len\n",
    "x([1, 2, 3])"
   ]
  },
  {
   "cell_type": "markdown",
   "metadata": {},
   "source": [
    "<br>\n",
    "\n",
    "You can store functions in containers and call them through subscription."
   ]
  },
  {
   "cell_type": "code",
   "execution_count": null,
   "metadata": {},
   "outputs": [],
   "source": [
    "function_dict = {\n",
    "    'Length' : len,\n",
    "    'Maximum' : max,\n",
    "    'Minimum' : min\n",
    "}\n",
    "\n",
    "function_dict['Maximum']([1, 2, 3])     # Subscriptions and function calls share the same level of  \n",
    "                                        # precedence and are executed in the order in which they appear.\n",
    "                                        # Example: print(function_dict['Length'])"
   ]
  },
  {
   "cell_type": "markdown",
   "metadata": {},
   "source": [
    "<br>\n",
    "\n",
    "You can pass functions as arguments to other functions."
   ]
  },
  {
   "cell_type": "code",
   "execution_count": null,
   "metadata": {},
   "outputs": [],
   "source": [
    "type(abs)"
   ]
  },
  {
   "cell_type": "markdown",
   "metadata": {},
   "source": [
    "---\n",
    "\n",
    "## **Other Types**\n",
    "\n",
    "Python includes more object types than we have covered here. You can find a comprehensive list in [the official documentation](https://docs.python.org/3/library/stdtypes.html)."
   ]
  }
 ],
 "metadata": {
  "kernelspec": {
   "display_name": "Python 3",
   "language": "python",
   "name": "python3"
  },
  "language_info": {
   "codemirror_mode": {
    "name": "ipython",
    "version": 3
   },
   "file_extension": ".py",
   "mimetype": "text/x-python",
   "name": "python",
   "nbconvert_exporter": "python",
   "pygments_lexer": "ipython3",
   "version": "3.10.13"
  }
 },
 "nbformat": 4,
 "nbformat_minor": 2
}
