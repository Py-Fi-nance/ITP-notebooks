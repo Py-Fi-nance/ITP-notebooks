{
 "cells": [
  {
   "cell_type": "markdown",
   "metadata": {},
   "source": [
    "# **5. Control Flow Operations**"
   ]
  },
  {
   "cell_type": "markdown",
   "metadata": {},
   "source": [
    "---\n",
    "\n",
    "## **Introduction**\n",
    "\n",
    "#### <ins>Statements</ins>\n",
    "\n",
    "The statement is the basic syntactic unit of executable source code."
   ]
  },
  {
   "cell_type": "code",
   "execution_count": null,
   "metadata": {},
   "outputs": [],
   "source": [
    "x = round(4 / 7, 2)"
   ]
  },
  {
   "cell_type": "markdown",
   "metadata": {},
   "source": [
    "A statement may contain many components, but if those components are not arranged into a statement, they cannot be executed."
   ]
  },
  {
   "cell_type": "code",
   "execution_count": null,
   "metadata": {},
   "outputs": [],
   "source": [
    "="
   ]
  },
  {
   "cell_type": "markdown",
   "metadata": {},
   "source": [
    "<br>\n",
    "\n",
    "Python supports 23 kinds of statements ([simple](https://docs.python.org/3/reference/simple_stmts.html) and [compound](https://docs.python.org/3/reference/compound_stmts.html)), each of which is defined and recognizable by its unique syntax.\n",
    "\n",
    "So far in this class, we have seen [expression statements](https://docs.python.org/3/reference/simple_stmts.html#expression-statements), [assignment statements](https://docs.python.org/3/reference/simple_stmts.html#assignment-statements), and one [delete statement](https://docs.python.org/3/reference/simple_stmts.html#the-del-statement)."
   ]
  },
  {
   "cell_type": "code",
   "execution_count": null,
   "metadata": {},
   "outputs": [],
   "source": [
    "# Expression Statements\n",
    "\n",
    "2 + 2\n",
    "\n",
    "# len([1, 2, 3])\n",
    "\n",
    "# print('This is an expression statement.')"
   ]
  },
  {
   "cell_type": "code",
   "execution_count": 9,
   "metadata": {},
   "outputs": [],
   "source": [
    "# Assignment Statements\n",
    "\n",
    "x = 4\n",
    "\n",
    "example_dictionary = {\n",
    "    'one' : 1,\n",
    "    'two' : 2,\n",
    "    'three' : 3\n",
    "}\n",
    "\n",
    "example_dictionary['four'] = x"
   ]
  },
  {
   "cell_type": "code",
   "execution_count": 10,
   "metadata": {},
   "outputs": [],
   "source": [
    "# Delete Statement\n",
    "\n",
    "del example_dictionary['one']"
   ]
  },
  {
   "cell_type": "markdown",
   "metadata": {},
   "source": [
    "<br>\n",
    "\n",
    "By default, statements are executed in a linear sequence."
   ]
  },
  {
   "cell_type": "code",
   "execution_count": null,
   "metadata": {},
   "outputs": [],
   "source": [
    "a, b, c = 1, 2, 3\n",
    "print(f'a = {a}')\n",
    "print(f'b = {b}')\n",
    "print(f'c = {c}')"
   ]
  },
  {
   "cell_type": "markdown",
   "metadata": {},
   "source": [
    "<br>\n",
    "\n",
    "The course of statement execution, sometimes called *execution flow*, is most commonly known as *control flow*."
   ]
  },
  {
   "cell_type": "markdown",
   "metadata": {},
   "source": [
    "<br>\n",
    "\n",
    "#### <ins>Control Flow Operations</ins>\n",
    "\n",
    "Control flow operations modify the flow of execution.\n",
    "\n",
    "Control flow operations are divisable into two categories: branching and looping.\n",
    "\n",
    "Control flow operations are triggered by control flow statements.\n",
    "\n",
    "Because control flow statements contain other statements, they are classified as compound statements.\n",
    "\n",
    "<br>\n",
    "\n",
    "#### <ins>A Note Regarding the \"Control\" in Control Flow</ins>\n",
    "\n",
    "Despite much searching, I have never encountered a clear explanation of the word “control” in this term. \n",
    "\n",
    "My best guess is that the word \"control\" comes from the idea that the statement being executed is \"controlling\" the interpreter. Based on this idea, you could say that one statement has control until its execution is complete, at which point it transfers control to the next statement."
   ]
  },
  {
   "cell_type": "markdown",
   "metadata": {},
   "source": [
    "---\n",
    "\n",
    "## **The `if` Operation**\n",
    "\n",
    "#### <ins>Introduction</ins>\n",
    "\n",
    "The `if` operation (which is triggered by an `if` statement) adds a branch to the flow of execution."
   ]
  },
  {
   "cell_type": "code",
   "execution_count": 67,
   "metadata": {},
   "outputs": [],
   "source": [
    "jacket = 'No Jacket'\n",
    "weather = 'Raining'"
   ]
  },
  {
   "cell_type": "code",
   "execution_count": null,
   "metadata": {},
   "outputs": [],
   "source": [
    "# The following assignment statement will be executed only if the condition proves true.\n",
    "\n",
    "if weather == 'Raining':        # In syntactic terms, this line is a header.\n",
    "    jacket = 'Rain Jacket'      # This line is a suite. \n",
    "                                # Together, they form a clause.\n",
    "                                # Because this if statement contains only one clause,\n",
    "                                # the if statement and the clause are coterminal.\n",
    "\n",
    "print(jacket)"
   ]
  },
  {
   "cell_type": "markdown",
   "metadata": {},
   "source": [
    "<br>\n",
    "\n",
    "You can add unlimited `elif` (else-if) clauses to an `if` statement to test multiple conditions."
   ]
  },
  {
   "cell_type": "code",
   "execution_count": 75,
   "metadata": {},
   "outputs": [],
   "source": [
    "weather = 'Raining'"
   ]
  },
  {
   "cell_type": "code",
   "execution_count": null,
   "metadata": {},
   "outputs": [],
   "source": [
    "if weather == 'Raining':\n",
    "    jacket = 'Rain Jacket'\n",
    "elif weather == 'Cool':\n",
    "    jacket = 'Light Jacket'\n",
    "elif weather == 'Snowing':\n",
    "    jacket = 'Winter Coat'\n",
    "\n",
    "print(jacket)"
   ]
  },
  {
   "cell_type": "markdown",
   "metadata": {},
   "source": [
    "<br>\n",
    "\n",
    "An `else` clause at the end of an `if` statement specifies an operation to execute if all prior conditions have failed."
   ]
  },
  {
   "cell_type": "code",
   "execution_count": 76,
   "metadata": {},
   "outputs": [],
   "source": [
    "weather = 'Sunny'"
   ]
  },
  {
   "cell_type": "code",
   "execution_count": null,
   "metadata": {},
   "outputs": [],
   "source": [
    "if weather == 'Raining':\n",
    "    jacket = 'Rain Jacket'\n",
    "elif weather == 'Cool':\n",
    "    jacket = 'Light Jacket'\n",
    "elif weather == 'Snowing':\n",
    "    jacket = 'Winter Coat'\n",
    "# else:\n",
    "#     jacket = 'No Jacket'\n",
    "\n",
    "print(jacket)"
   ]
  },
  {
   "cell_type": "markdown",
   "metadata": {},
   "source": [
    "#### <ins>Syntax</ins>\n",
    "\n",
    "Both `if` and `elif` headers are made up of a keyword, a condition, and a colon. \n",
    "\n",
    "`else` headers are the same except that they do not include a condition.\n",
    "\n",
    "Any suite can contain any Python code. \n",
    "\n",
    "If an `if` statement contains multiple clauses, all suites must be indented."
   ]
  },
  {
   "cell_type": "code",
   "execution_count": 7,
   "metadata": {},
   "outputs": [],
   "source": [
    "# Keyword              Colon\n",
    "# /                    |\n",
    "if weather == 'Raining':\n",
    "#  \\_________________/\n",
    "#       Condition\n",
    "\n",
    "\n",
    "# Indentation\n",
    "# |\n",
    "    jacket = 'Rain Jacket'\n",
    "#   \\___________________/\n",
    "#      Any Python code\n"
   ]
  },
  {
   "cell_type": "markdown",
   "metadata": {},
   "source": [
    "<br>\n",
    "\n",
    "If an `if` statement contains only one clause, then its suite can be on the same line as its header."
   ]
  },
  {
   "cell_type": "code",
   "execution_count": 2,
   "metadata": {},
   "outputs": [],
   "source": [
    "jacket = 'No Jacket'\n",
    "weather = 'Raining'"
   ]
  },
  {
   "cell_type": "code",
   "execution_count": null,
   "metadata": {},
   "outputs": [],
   "source": [
    "if weather == 'Raining': jacket = 'Rain Jacket'      \n",
    "\n",
    "print(jacket)"
   ]
  },
  {
   "cell_type": "markdown",
   "metadata": {},
   "source": [
    "<br>\n",
    "\n",
    "Suites can contain multiple statements..."
   ]
  },
  {
   "cell_type": "code",
   "execution_count": 79,
   "metadata": {},
   "outputs": [],
   "source": [
    "jacket = 'No Jacket'\n",
    "shoes = 'Sandals'\n",
    "weather = 'Snowing'"
   ]
  },
  {
   "cell_type": "code",
   "execution_count": null,
   "metadata": {},
   "outputs": [],
   "source": [
    "if weather == 'Snowing':\n",
    "    jacket = 'Winter Coat'\n",
    "    shoes = 'Boots'\n",
    "\n",
    "print(f'Jacket = {jacket}')\n",
    "print(f'Shoes = {shoes}')\n"
   ]
  },
  {
   "cell_type": "markdown",
   "metadata": {},
   "source": [
    "<br>\n",
    "\n",
    "...including nested `if` statements.\n",
    "\n",
    "<p style = \"Color: #BFBFBF\"><ins>Discuss Pseudocode</ins></p>\n",
    "\n",
    "<p style = \"Color: #BFBFBF\">Goal: I want to 1) change my jacket if it is necessary to fit the weather and 2) describe what happened.</p>\n",
    "\n",
    "- <p style = \"Color: #BFBFBF\">If it is raining and I am already wearing a rain jacket, then change nothing and output a description.</p>\n",
    "\n",
    "- <p style = \"Color: #BFBFBF\">If it is raining and I am not wearing a rain jacket, then put on a rain jacket and output a description.</p>\n",
    "\n",
    "- <p style = \"Color: #BFBFBF\">If it is not raining and I am not wearing a jacket, then change nothing and output a description.</p>\n",
    "\n",
    "- <p style = \"Color: #BFBFBF\">If it is not raining and I am wearing a rain jacket, then remove the jacket and output a description.</p>\n",
    "\n",
    "<p style = \"Color: #BFBFBF\">After designing my algorithm in English, I can implement it in Python."
   ]
  },
  {
   "cell_type": "code",
   "execution_count": 83,
   "metadata": {},
   "outputs": [],
   "source": [
    "jacket = 'No Jacket'\n",
    "weather = 'Raining'"
   ]
  },
  {
   "cell_type": "code",
   "execution_count": null,
   "metadata": {},
   "outputs": [],
   "source": [
    "# This if statement will execute a different suite the second time it is executed after an initial\n",
    "# mismatch between jacket and weather.\n",
    "\n",
    "print(f'Jacket = {jacket}')\n",
    "print(f'Weather = {weather}')\n",
    "print('-')\n",
    "\n",
    "if weather == 'Raining':\n",
    "    if jacket == 'Rain Jacket':                     # Suite 1\n",
    "        print('You did not change your jacket.')        # Suite 1.a\n",
    "    else:\n",
    "        jacket = 'Rain Jacket'                          # Suite 1.b\n",
    "        print('You put on your rain jacket.')           # (Will not repeat)\n",
    "else:\n",
    "    if jacket == 'No Jacket':                       # Suite 2\n",
    "        print('You did not put on a jacket.')           # Suite 2.a\n",
    "    else:\n",
    "        jacket = 'No Jacket'                            # Suite 2.b\n",
    "        print('You took off your jacket.')              # (Will not repeat)"
   ]
  },
  {
   "cell_type": "markdown",
   "metadata": {},
   "source": [
    "<br>\n",
    "\n",
    "Later clauses are not executed unless all earlier clauses fail."
   ]
  },
  {
   "cell_type": "code",
   "execution_count": 65,
   "metadata": {},
   "outputs": [],
   "source": [
    "temperature = 80"
   ]
  },
  {
   "cell_type": "code",
   "execution_count": null,
   "metadata": {},
   "outputs": [],
   "source": [
    "if temperature > 75:\n",
    "    jacket = 'No Jacket'        \n",
    "elif temperature > 50:          \n",
    "    jacket = 'Light Jacket'      # This suite is not executed even though 80 > 50.\n",
    "else:\n",
    "    jacket = 'Winter Coat'\n",
    "\n",
    "print(jacket)"
   ]
  },
  {
   "cell_type": "markdown",
   "metadata": {},
   "source": [
    "<br>\n",
    "\n",
    "**Exercise**\n",
    "\n",
    "In the empty cell below, write an if statement that implements the following instructions:\n",
    "1. If Tesla's projected return is greater than 15%, append 'TSLA' to buy_list.\n",
    "2. If Tesla's projected return is less than or equal to 15% but greater than 8%, append 'TSLA' to hold_list.\n",
    "3. If Tesla's projected return is less than or equal to 8%, append 'TSLA' to sell_list."
   ]
  },
  {
   "cell_type": "code",
   "execution_count": 29,
   "metadata": {},
   "outputs": [],
   "source": [
    "# Initializing recommendation lists\n",
    "\n",
    "buy_list = []\n",
    "hold_list = []\n",
    "sell_list = []\n",
    "\n",
    "# Setting Tesla's projected return\n",
    "\n",
    "tsla_return = 0.17"
   ]
  },
  {
   "cell_type": "code",
   "execution_count": 32,
   "metadata": {},
   "outputs": [],
   "source": [
    "# Complete the exercise in this cell.\n",
    "\n"
   ]
  },
  {
   "cell_type": "code",
   "execution_count": null,
   "metadata": {},
   "outputs": [],
   "source": [
    "# Displaying results\n",
    "\n",
    "print(f'Buy: {buy_list}')\n",
    "print(f'Hold: {hold_list}')\n",
    "print(f'Sell: {sell_list}')"
   ]
  },
  {
   "cell_type": "markdown",
   "metadata": {},
   "source": [
    "<br>\n",
    "\n",
    "**<p style = \"Color: red\">Solution</p>**"
   ]
  },
  {
   "cell_type": "code",
   "execution_count": null,
   "metadata": {},
   "outputs": [],
   "source": [
    "# Initializing recommendation lists\n",
    "\n",
    "buy_list = []\n",
    "hold_list = []\n",
    "sell_list = []\n",
    "\n",
    "# Setting Tesla's projected return\n",
    "\n",
    "tsla_return = 0.17"
   ]
  },
  {
   "cell_type": "code",
   "execution_count": null,
   "metadata": {},
   "outputs": [],
   "source": [
    "# Complete the exercise below.\n",
    "\n",
    "if tsla_return > 0.15:\n",
    "    buy_list.append('TSLA')\n",
    "elif tsla_return > 0.08:\n",
    "    hold_list.append('TSLA')\n",
    "else:\n",
    "    sell_list.append('TSLA')"
   ]
  },
  {
   "cell_type": "code",
   "execution_count": null,
   "metadata": {},
   "outputs": [],
   "source": [
    "# Displaying results\n",
    "\n",
    "print(f'Buy: {buy_list}')\n",
    "print(f'Hold: {hold_list}')\n",
    "print(f'Sell: {sell_list}')"
   ]
  },
  {
   "cell_type": "markdown",
   "metadata": {},
   "source": [
    "<br>\n",
    "\n",
    "#### <ins>Side Note: Conditional Expressions</ins>\n",
    "\n",
    "Conditional expressions, which contain the `if` and `else` keywords, are similar to `if` statements with some important differences.\n",
    "\n",
    "<br>\n",
    "\n",
    "In Python, expressions (such as arithmetic, comparison, and Boolean expressions) always resolve to a single value."
   ]
  },
  {
   "cell_type": "code",
   "execution_count": null,
   "metadata": {},
   "outputs": [],
   "source": [
    "print(2 + 2)                                                # Some expressions are simple.\n",
    "\n",
    "print(2**3 * (4 / 5) >= 6 and 7 + max([8, 9, 10]) != 11)    # Others are complex."
   ]
  },
  {
   "cell_type": "markdown",
   "metadata": {},
   "source": [
    "<br>\n",
    "\n",
    "Unlike `if` statements, conditional expressions are not control flow statements. Whereas `if` statements govern the execution of subordinate statements, conditional expressions govern the evaluation of subordinate expressions."
   ]
  },
  {
   "cell_type": "code",
   "execution_count": null,
   "metadata": {},
   "outputs": [],
   "source": [
    "x = 2\n",
    "y = 1"
   ]
  },
  {
   "cell_type": "code",
   "execution_count": null,
   "metadata": {},
   "outputs": [],
   "source": [
    "# If the expression following the `if` keyword is true, then the interpreter evaluates x\n",
    "# and returns the result. Otherwise, the interpreter evaluates 'y' and returns the result.\n",
    "\n",
    "x if x > y else y"
   ]
  },
  {
   "cell_type": "markdown",
   "metadata": {},
   "source": [
    "<br>\n",
    "\n",
    "A conditional expression is one kind of expression (like an arithmetic, comparison, or Boolean expression) and can be used as such (e.g. in an expression statement like above or in an assignment statement like below)."
   ]
  },
  {
   "cell_type": "code",
   "execution_count": null,
   "metadata": {},
   "outputs": [],
   "source": [
    "result = x if x > y else y\n",
    "print(result)"
   ]
  },
  {
   "cell_type": "markdown",
   "metadata": {},
   "source": [
    "<br>\n",
    "\n",
    "Conditional expressions must follow the syntax `X if Y else Z`.\n",
    "\n",
    "Unlike `if` statements, conditional expressions must contain the `else` keyword..."
   ]
  },
  {
   "cell_type": "code",
   "execution_count": null,
   "metadata": {},
   "outputs": [],
   "source": [
    "'True' if 2 + 2 == 4"
   ]
  },
  {
   "cell_type": "markdown",
   "metadata": {},
   "source": [
    "<br>\n",
    "\n",
    "...and they cannot contain the `elif` keyword."
   ]
  },
  {
   "cell_type": "code",
   "execution_count": null,
   "metadata": {},
   "outputs": [],
   "source": [
    "'True' if 2 + 2 == 4 elif 2 + 2 > 4..."
   ]
  },
  {
   "cell_type": "markdown",
   "metadata": {},
   "source": [
    "<br>\n",
    "\n",
    "Further, although X, Y, and Z can be almost any *expression*, conditional expressions cannot contain other kinds of *statements*."
   ]
  },
  {
   "cell_type": "code",
   "execution_count": null,
   "metadata": {},
   "outputs": [],
   "source": [
    "# For example, a conditional expression cannot contain assignment statements.\n",
    "\n",
    "result = 'True' if 2 + 2 == 4 else result = 'False'"
   ]
  },
  {
   "cell_type": "markdown",
   "metadata": {},
   "source": [
    "<br>\n",
    "\n",
    "Therefore, while every use of a conditional expression can be implemented as an `if` statement..."
   ]
  },
  {
   "cell_type": "code",
   "execution_count": null,
   "metadata": {},
   "outputs": [],
   "source": [
    "# This conditional expression...\n",
    "\n",
    "result = x if x > y else y\n",
    "print(result)\n",
    "\n",
    "# ...can be implemented as an if statement.\n",
    "\n",
    "if x > y:\n",
    "    result = x\n",
    "else:\n",
    "    result = y\n",
    "\n",
    "print(result)"
   ]
  },
  {
   "cell_type": "markdown",
   "metadata": {},
   "source": [
    "<br>\n",
    "\n",
    "...not all `if` statements can be implemented using conditional expressions. "
   ]
  },
  {
   "cell_type": "code",
   "execution_count": null,
   "metadata": {},
   "outputs": [],
   "source": [
    "# An if statement without an else clause cannot be implemented with a conditional expression.\n",
    "\n",
    "if x > y:\n",
    "    print('x > y')\n",
    "\n",
    "# Neither can an if statement containing multiple kinds of statements.\n",
    "\n",
    "if x > y:\n",
    "    print('x > y')      \n",
    "else:\n",
    "    del x"
   ]
  },
  {
   "cell_type": "markdown",
   "metadata": {},
   "source": [
    "<br>\n",
    "\n",
    "**Exercise**\n",
    "\n",
    "In the empty cell below, write a conditional expression that returns 'Buy' if the stock's projected return is greater than the buy threshold and 'Sell' if it is not. \n",
    "\n",
    "Use this expression in an assignment statement to update the value of 'Recommendation' in the stock dictionary. Then, print the dictionary to check your work."
   ]
  },
  {
   "cell_type": "code",
   "execution_count": 8,
   "metadata": {},
   "outputs": [],
   "source": [
    "buy_threshold = .12\n",
    "\n",
    "stock = {\n",
    "    'Name' : 'Berkshire Hathaway',\n",
    "    'Ticker' : 'BRKA',\n",
    "    'Projected Return' : .17,\n",
    "    'Recommendation' : None\n",
    "}"
   ]
  },
  {
   "cell_type": "code",
   "execution_count": null,
   "metadata": {},
   "outputs": [],
   "source": [
    "# Complete the exercise below.\n",
    "\n"
   ]
  },
  {
   "cell_type": "markdown",
   "metadata": {},
   "source": [
    "<br>\n",
    "\n",
    "**<p style = \"Color: red\">Solution</p>**"
   ]
  },
  {
   "cell_type": "code",
   "execution_count": null,
   "metadata": {},
   "outputs": [],
   "source": [
    "# Complete the exercise below.\n",
    "\n",
    "stock['Recommendation'] = 'Buy' if stock['Projected Return'] > buy_threshold else 'Sell'\n",
    "print(stock)"
   ]
  },
  {
   "cell_type": "markdown",
   "metadata": {},
   "source": [
    "<br>\n",
    "\n",
    "---\n",
    "\n",
    "## **The `while` Operation**\n",
    "\n",
    "#### <ins>Introduction</ins>\n",
    "\n",
    "The `while` operation (which is triggered by a `while` statement) adds a loop to the flow of execution."
   ]
  },
  {
   "cell_type": "code",
   "execution_count": null,
   "metadata": {},
   "outputs": [],
   "source": [
    "x = 1\n",
    "\n",
    "while x < 10:           # First, the interpreter evaluates the condition in the header.\n",
    "    print(x)            # If the condition proves true, the interpreter executes the suite below.\n",
    "    x += 1              # After executing the suite, the interpreter re-evaluates the condition.\n",
    "else:                   # When the condition proves false, if the while statement contains an else\n",
    "    print('x = 10')     # clause, the interpreter executes the associated suite."
   ]
  },
  {
   "cell_type": "markdown",
   "metadata": {},
   "source": [
    "<br>\n",
    "\n",
    "Like an `if` statement...\n",
    "- the header of a while statement is made up of a keyword, a condition, and a colon;\n",
    "- a `while` statement can (but does not have to) include an `else` clause; and\n",
    "- the suites in a `while` statement can contain any Python code (including nested control flow statements)."
   ]
  },
  {
   "cell_type": "code",
   "execution_count": null,
   "metadata": {},
   "outputs": [],
   "source": [
    "x = 1\n",
    "\n",
    "while x < 10:\n",
    "    if x % 2 == 0:\n",
    "        print(x, '(Even)')\n",
    "    else:\n",
    "        print(x, '(Odd)')\n",
    "    x += 1                   # This increment is not part of the if statement. It is always executed.\n",
    "else:\n",
    "    print('x = 10')"
   ]
  },
  {
   "cell_type": "markdown",
   "metadata": {},
   "source": [
    "<br>\n",
    "\n",
    "#### <ins>Loop Modifiers</ins>\n",
    "\n",
    "Python provides two loop modifiers: the `break` and `continue` keywords (which can only occur within loop suites).\n",
    "\n",
    "The `break` keyword ends a loop early (without executing its `else` clause, if it has one)."
   ]
  },
  {
   "cell_type": "code",
   "execution_count": null,
   "metadata": {},
   "outputs": [],
   "source": [
    "x = 1\n",
    "\n",
    "while x < 10:\n",
    "    if x % 2 == 0:\n",
    "        print(x, '(Even)')\n",
    "    elif x == 7:\n",
    "        print('x = 7')       # If the elif condition proves true, the interpreter will execute\n",
    "        break                # the break statement and the loop will terminate early.\n",
    "    else:\n",
    "        print(x, '(Odd)')\n",
    "    x += 1                   \n",
    "else:\n",
    "    print('x = 10')"
   ]
  },
  {
   "cell_type": "markdown",
   "metadata": {},
   "source": [
    "<br>\n",
    "\n",
    "The `continue` keyword advances the loop to its next iteration."
   ]
  },
  {
   "cell_type": "code",
   "execution_count": null,
   "metadata": {},
   "outputs": [],
   "source": [
    "x = 1\n",
    "\n",
    "while x < 10:\n",
    "    if x % 2 == 0:\n",
    "        print(x, '(Even)')\n",
    "    elif x == 7:            \n",
    "        x += 1              # If the elif condition proves true, the interpreter will execute the\n",
    "        continue            # continue statement and the loop will advance to its next iteration.\n",
    "    else:\n",
    "        print(x, '(Odd)')\n",
    "    x += 1                   \n",
    "else:\n",
    "    print('x = 10')"
   ]
  },
  {
   "cell_type": "markdown",
   "metadata": {},
   "source": [
    "<br>\n",
    "\n",
    "#### <ins><p style = \"Color: red\">Caution: Infinite Loops</p></ins>\n",
    "\n",
    "If the condition of a `while` statement never proves false, the interpreter will execute the loop until you hit the stop button or use up all of your free compute provided by Codespaces.\n",
    "\n",
    "If you use up your free compute, you will have to buy more to continue this class.\n",
    "\n",
    "As you experiment with `while` loops for the first time, I recommend using a break statement triggered by a loop counter to avoid accidentally wasting your Codespaces compute."
   ]
  },
  {
   "cell_type": "code",
   "execution_count": null,
   "metadata": {},
   "outputs": [],
   "source": [
    "# Executing the wrong code could cost you money.\n",
    "# Instead of this:\n",
    "\n",
    "# while 2 + 2 == 4:\n",
    "#     `print(\"2 + 2 is still equal to 4.\")\n",
    "\n",
    "# Do this:\n",
    "\n",
    "loops = 0\n",
    "\n",
    "while 2 + 2 == 4:\n",
    "    loops += 1                                 # The first statement increments the loop counter.\n",
    "    if loops > 10:                             # The second statement tests the loop counter.\n",
    "        break                                  # The third statement ends the loop if the counter exceeds the limit.\n",
    "    else:                                      # Then, in the suite of an else clause...\n",
    "        print(\"2 + 2 is still equal to 4.\")    # ...specify the operation you want to perform in the loop."
   ]
  },
  {
   "cell_type": "markdown",
   "metadata": {},
   "source": [
    "<br>\n",
    "\n",
    "**Exercise**\n",
    "\n",
    "In trading, a limit order instructs a broker to buy or sell a security based on its market price.\n",
    "\n",
    "In this exercise, you will write an algorithm that simulates the execution of a limit order.\n",
    "\n",
    "Implement the following instructions:\n",
    "\n",
    "*While the current price is less than the buy limit, if you can afford another share, then buy one (i.e. decrease your cash by the current price and increase shares owned by one); otherwise, print the message, “You do not have enough cash to buy another share,” and break out of the loop. When the current price rises above the buy limit, regardless of the amount of cash that you have, print the message, “The price has risen above the buy limit,” and end the loop.*"
   ]
  },
  {
   "cell_type": "code",
   "execution_count": 80,
   "metadata": {},
   "outputs": [],
   "source": [
    "# Defining initial variables\n",
    "\n",
    "cash = 100.00                    # 103.00 should produce a different result.\n",
    "shares_owned = 0\n",
    "buy_limit = 30.00\n",
    "current_price = 22.05"
   ]
  },
  {
   "cell_type": "code",
   "execution_count": null,
   "metadata": {},
   "outputs": [],
   "source": [
    "# Complete the exercise below.\n",
    "\n",
    "loops = 0\n",
    "\n",
    "while # Condition\n",
    "    loops += 1\n",
    "    if loops > 10:\n",
    "        break\n",
    "    else:               \n",
    "        if # Condition\n",
    "            # Operation\n",
    "            current_price = round(current_price * 1.1, 2)    # This line must remain part of the if suite.\n",
    "        else:\n",
    "            # Operation\n",
    "else:\n",
    "    # Operation\n"
   ]
  },
  {
   "cell_type": "code",
   "execution_count": null,
   "metadata": {},
   "outputs": [],
   "source": [
    "# Displaying results\n",
    "\n",
    "print(f'You have {shares_owned} shares and ${cash} of cash remaining.')\n",
    "print(f'The current price is ${current_price}.')"
   ]
  },
  {
   "cell_type": "markdown",
   "metadata": {},
   "source": [
    "<br>\n",
    "\n",
    "**<p style = \"Color: red\">Solution</p>**"
   ]
  },
  {
   "cell_type": "code",
   "execution_count": null,
   "metadata": {},
   "outputs": [],
   "source": [
    "# Complete the exercise below.\n",
    "\n",
    "loops = 0\n",
    "\n",
    "while current_price < buy_limit:\n",
    "    loops += 1\n",
    "    if loops > 10:\n",
    "        break\n",
    "    else:\n",
    "        if cash > current_price:\n",
    "            cash -= current_price\n",
    "            shares_owned += 1\n",
    "            current_price = round(current_price * 1.1, 2)\n",
    "        else:\n",
    "            print('You do not have enough cash to buy another share.')\n",
    "            break\n",
    "else:\n",
    "    print('The price has risen above the buy limit.')"
   ]
  },
  {
   "cell_type": "code",
   "execution_count": null,
   "metadata": {},
   "outputs": [],
   "source": [
    "# Displaying results\n",
    "\n",
    "print(f'You have {shares_owned} shares and ${cash:.2f} of cash remaining.')\n",
    "print(f'The current price is ${current_price:.2f}.')"
   ]
  },
  {
   "cell_type": "markdown",
   "metadata": {},
   "source": [
    "<br>\n",
    "\n",
    "---\n",
    "\n",
    "## **The `for` Operation**\n",
    "\n",
    "#### <ins>Introduction</ins>\n",
    "\n",
    "Like the `while` operation, the `for` operation (which is triggered by a `for` statement) adds a loop to the flow of execution.\n",
    "\n",
    "The `for` operation requires three inputs: a variable name, an iterable object, and an operation to execute.\n",
    "\n",
    "A `for` loop will repeat its operation one time for each element in its iterable. At the beginning of each iteration, the next element is assigned to the variable name in the header so that any reference to that name in the operation yields that element. This mechanism allows you to repeat an operation across every element of an iterable."
   ]
  },
  {
   "cell_type": "code",
   "execution_count": null,
   "metadata": {},
   "outputs": [],
   "source": [
    "# Name      Iterable\n",
    "#   |        |\n",
    "for x in [1, 2, 3]:\n",
    "    print(x * 2)                \n",
    "#     |\n",
    "#    Operation"
   ]
  },
  {
   "cell_type": "markdown",
   "metadata": {},
   "source": [
    "<br>\n",
    "\n",
    "As with `if` statements and `while` loops, the suites of a `for` loop can contain any Python code, including nested control flow statements."
   ]
  },
  {
   "cell_type": "code",
   "execution_count": null,
   "metadata": {},
   "outputs": [],
   "source": [
    "for x in [1, 2, 3]:\n",
    "    if x % 2 == 0:\n",
    "        print(f'{x} is an even number.')\n",
    "    else:\n",
    "        print(f'{x} is an odd number.')"
   ]
  },
  {
   "cell_type": "markdown",
   "metadata": {},
   "source": [
    "<br>\n",
    "\n",
    "#### <ins>Iterable Types</ins>\n",
    "\n",
    "The term *iterable* is nearly synonymous with the term *container*. Python includes some iterable types (e.g. [range](https://docs.python.org/3/library/functions.html#func-range), [enumerate](https://docs.python.org/3/library/functions.html#enumerate), and [zip](https://docs.python.org/3/library/functions.html#zip)) which are not containers, but all built-in container types (e.g. lists, dictionaries, sets, tuples) are iterables."
   ]
  },
  {
   "cell_type": "markdown",
   "metadata": {},
   "source": [
    "The view objects returned by the `keys`, `values`, and `items` dictionary methods are iterable."
   ]
  },
  {
   "cell_type": "code",
   "execution_count": null,
   "metadata": {},
   "outputs": [],
   "source": [
    "test_dict = {\n",
    "    'one' : 1,\n",
    "    'two' : 2,\n",
    "    'three' : 3\n",
    "}\n",
    "\n",
    "print('Keys:')\n",
    "for x in test_dict.keys():\n",
    "    print(x)\n",
    "\n",
    "print()\n",
    "print('Values:')\n",
    "for x in test_dict.values():\n",
    "    print(x)\n",
    "\n",
    "print()\n",
    "print('Items:')\n",
    "for x in test_dict.items():\n",
    "    print(x)"
   ]
  },
  {
   "cell_type": "code",
   "execution_count": null,
   "metadata": {},
   "outputs": [],
   "source": [
    "for value in test_dict.values():\n",
    "    "
   ]
  },
  {
   "cell_type": "markdown",
   "metadata": {},
   "source": [
    "<br>\n",
    "\n",
    "#### <ins>Unpacking</ins>\n",
    "\n",
    "If all of the first-order elements of an iterable are containers with an equal number of second-order elements, you can unpack the second-order elements and assign them to multiple variable names (like multiple assignment in an assignment statement)."
   ]
  },
  {
   "cell_type": "code",
   "execution_count": null,
   "metadata": {},
   "outputs": [],
   "source": [
    "# The number of variable names must match the number of second-order elements in each first-order element.\n",
    "\n",
    "for x, y in test_dict.items():\n",
    "    print(f'Key = {x}; Value = {y}')"
   ]
  },
  {
   "cell_type": "code",
   "execution_count": null,
   "metadata": {},
   "outputs": [],
   "source": [
    "ticker_list = [['Apple', 'AAPL', 227.55], ['Walmart', 'WMT', 80.10]]\n",
    "\n",
    "for a, b, c in ticker_list:\n",
    "    print(f\"{a}'s ticker is {b}, and the current stock price is ${c:.2f}.\")\n",
    "\n",
    "# If I remove a second-order element from this list, the interpreter will raise an error."
   ]
  },
  {
   "cell_type": "markdown",
   "metadata": {},
   "source": [
    "<br>\n",
    "\n",
    "#### <ins>Meaningful Variable Names</ins>\n",
    "\n",
    "As with assignment statements, using meaningful variable names in `for` loops will make your code easier to understand."
   ]
  },
  {
   "cell_type": "code",
   "execution_count": null,
   "metadata": {},
   "outputs": [],
   "source": [
    "for key, value in test_dict.items():\n",
    "    print(f'Key = {key}; Value = {value}')"
   ]
  },
  {
   "cell_type": "code",
   "execution_count": null,
   "metadata": {},
   "outputs": [],
   "source": [
    "ticker_list = [['Apple', 'AAPL', 227.55], ['Walmart', 'WMT', 80.10]]\n",
    "\n",
    "for name, ticker, price in ticker_list:\n",
    "    print(f\"{name}'s ticker is {ticker}, and the current stock price is ${price:.2f}.\")"
   ]
  },
  {
   "cell_type": "markdown",
   "metadata": {},
   "source": [
    "<br>\n",
    "\n",
    "#### <ins>Repeating Operations with `range`</ins>\n",
    "\n",
    "The operation of a `for` loop does not need to use the variable defined in its header."
   ]
  },
  {
   "cell_type": "code",
   "execution_count": null,
   "metadata": {},
   "outputs": [],
   "source": [
    "for n in [1, 2, 3]:\n",
    "    print('Hello')"
   ]
  },
  {
   "cell_type": "markdown",
   "metadata": {},
   "source": [
    "<br>\n",
    "\n",
    "`for` loops are often used in this way in combination with the `range` function to repeat an operation a given number of times.\n",
    "\n"
   ]
  },
  {
   "cell_type": "code",
   "execution_count": null,
   "metadata": {},
   "outputs": [],
   "source": [
    "for n in range(3):\n",
    "    print('Hello')"
   ]
  },
  {
   "cell_type": "markdown",
   "metadata": {},
   "source": [
    "<br>\n",
    "\n",
    "The `range` function returns a `range` object which generates a sequence of integers when passed to a `for` loop."
   ]
  },
  {
   "cell_type": "code",
   "execution_count": null,
   "metadata": {},
   "outputs": [],
   "source": [
    "print(range(3))\n",
    "print(type(range(3)))"
   ]
  },
  {
   "cell_type": "code",
   "execution_count": null,
   "metadata": {},
   "outputs": [],
   "source": [
    "print(type(range(3)))"
   ]
  },
  {
   "cell_type": "code",
   "execution_count": null,
   "metadata": {},
   "outputs": [],
   "source": [
    "for n in range(3):\n",
    "    print(n)"
   ]
  },
  {
   "cell_type": "markdown",
   "metadata": {},
   "source": [
    "<br>\n",
    "\n",
    "Although you can achieve the same effect with a `while` loop..."
   ]
  },
  {
   "cell_type": "code",
   "execution_count": null,
   "metadata": {},
   "outputs": [],
   "source": [
    "x = 0\n",
    "\n",
    "while x < 3:\n",
    "    print('Hello')\n",
    "    x += 1"
   ]
  },
  {
   "cell_type": "markdown",
   "metadata": {},
   "source": [
    "<br>\n",
    "\n",
    "...using a `for` loop with a `range` object is simpler and cannot accidentally produce in an infinite loop."
   ]
  },
  {
   "cell_type": "markdown",
   "metadata": {},
   "source": [
    "<br>\n",
    "\n",
    "You can find more information on the `range` type in [the official documentation](https://docs.python.org/3/library/stdtypes.html#typesseq-range)."
   ]
  },
  {
   "cell_type": "markdown",
   "metadata": {},
   "source": [
    "<br>\n",
    "\n",
    "#### <ins>Loop Modifiers</ins>\n",
    "\n",
    "As with `while` loops, you can modify `for` loops with the `break` and `continue` keywords."
   ]
  },
  {
   "cell_type": "code",
   "execution_count": null,
   "metadata": {},
   "outputs": [],
   "source": [
    "for n in [1, 2, 'three', 4]:\n",
    "    if type(n) == int:\n",
    "        print(n * 2)\n",
    "    else:\n",
    "        break                   # Swap with continue to skip the string instead of ending the loop."
   ]
  },
  {
   "cell_type": "markdown",
   "metadata": {},
   "source": [
    "<br>\n",
    "\n",
    "**Exercise**\n",
    "\n"
   ]
  },
  {
   "cell_type": "markdown",
   "metadata": {},
   "source": [
    "Using a `for` loop, convert portfolio_list into a dictionary of dictionaries named portfolio_dict. Do not include the S&P 500 index or the Russell 2000 index.\n",
    "\n",
    "The key of each item in portfolio_dict should be the company ticker. The value of each item should be a subordinate dictionary containing the company name and price.\n",
    "\n",
    "Once the conversion is complete, using a `for` loop, iterate through the items of portfolio_dict and print the keys and values to check your work."
   ]
  },
  {
   "cell_type": "code",
   "execution_count": 20,
   "metadata": {},
   "outputs": [],
   "source": [
    "portfolio_list = [\n",
    "    ['AAPL', 'Apple', 184.99],\n",
    "    ['MSFT', 'Microsoft', 329.98],\n",
    "    ['SPX', 'S&P 500 Index', 5815.03],\n",
    "    ['AMZN', 'Amazon', 135.23],\n",
    "    ['RUT', 'Russell 2000 Index', 2254.80]\n",
    "    ['TSLA', 'Tesla', 250.12],\n",
    "    ['GOOG', 'Alphabet', 130.45],\n",
    "]"
   ]
  },
  {
   "cell_type": "code",
   "execution_count": null,
   "metadata": {},
   "outputs": [],
   "source": [
    "# Complete the exercise below.\n",
    "\n"
   ]
  },
  {
   "cell_type": "markdown",
   "metadata": {},
   "source": [
    "<br>\n",
    "\n",
    "**<p style = \"Color: red\">Solution</p>**"
   ]
  },
  {
   "cell_type": "code",
   "execution_count": null,
   "metadata": {},
   "outputs": [],
   "source": [
    "# Initializing portfolio_dict\n",
    "\n",
    "portfolio_dict = {}\n",
    "\n",
    "\n",
    "# Converting portfolio_list into a dictionary\n",
    "\n",
    "for ticker, name, price in portfolio_list:\n",
    "    if 'Index' in name:\n",
    "        continue\n",
    "    else:\n",
    "        portfolio_dict[ticker] = {'Name' : name, 'Price' : price}\n",
    "\n",
    "\n",
    "# Printing the results\n",
    "\n",
    "for key, value in portfolio_dict.items():\n",
    "    print(f'Key: {key}')\n",
    "    print(f'Value: {value}')\n",
    "    print()"
   ]
  }
 ],
 "metadata": {
  "kernelspec": {
   "display_name": "Python 3",
   "language": "python",
   "name": "python3"
  },
  "language_info": {
   "codemirror_mode": {
    "name": "ipython",
    "version": 3
   },
   "file_extension": ".py",
   "mimetype": "text/x-python",
   "name": "python",
   "nbconvert_exporter": "python",
   "pygments_lexer": "ipython3",
   "version": "3.10.13"
  }
 },
 "nbformat": 4,
 "nbformat_minor": 2
}
